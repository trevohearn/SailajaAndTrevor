{
 "cells": [
  {
   "cell_type": "code",
   "execution_count": 45,
   "metadata": {},
   "outputs": [],
   "source": [
    "import requests\n",
    "import pandas as pd\n",
    "from bs4 import BeautifulSoup"
   ]
  },
  {
   "cell_type": "code",
   "execution_count": 46,
   "metadata": {},
   "outputs": [],
   "source": [
    "# Market Share for Each Genre 1995-2020"
   ]
  },
  {
   "cell_type": "code",
   "execution_count": 47,
   "metadata": {},
   "outputs": [],
   "source": [
    "html_page = requests.get('https://www.the-numbers.com/market/genres')\n",
    "soup = BeautifulSoup(html_page.content,'html.parser')"
   ]
  },
  {
   "cell_type": "code",
   "execution_count": 48,
   "metadata": {},
   "outputs": [],
   "source": [
    "table=soup.find('table')\n"
   ]
  },
  {
   "cell_type": "code",
   "execution_count": 288,
   "metadata": {},
   "outputs": [
    {
     "data": {
      "text/html": [
       "<div>\n",
       "<style scoped>\n",
       "    .dataframe tbody tr th:only-of-type {\n",
       "        vertical-align: middle;\n",
       "    }\n",
       "\n",
       "    .dataframe tbody tr th {\n",
       "        vertical-align: top;\n",
       "    }\n",
       "\n",
       "    .dataframe thead th {\n",
       "        text-align: right;\n",
       "    }\n",
       "</style>\n",
       "<table border=\"1\" class=\"dataframe\">\n",
       "  <thead>\n",
       "    <tr style=\"text-align: right;\">\n",
       "      <th></th>\n",
       "      <th>Rank</th>\n",
       "      <th>Genre</th>\n",
       "      <th>Movies</th>\n",
       "      <th>Total Box Office</th>\n",
       "      <th>Tickets</th>\n",
       "      <th>Share</th>\n",
       "    </tr>\n",
       "  </thead>\n",
       "  <tbody>\n",
       "    <tr>\n",
       "      <td>0</td>\n",
       "      <td>1</td>\n",
       "      <td>Adventure</td>\n",
       "      <td>1064</td>\n",
       "      <td>$63,774,679,468</td>\n",
       "      <td>9133100587</td>\n",
       "      <td>27.33%</td>\n",
       "    </tr>\n",
       "    <tr>\n",
       "      <td>1</td>\n",
       "      <td>2</td>\n",
       "      <td>Action</td>\n",
       "      <td>1027</td>\n",
       "      <td>$47,445,372,974</td>\n",
       "      <td>6732270946</td>\n",
       "      <td>20.33%</td>\n",
       "    </tr>\n",
       "  </tbody>\n",
       "</table>\n",
       "</div>"
      ],
      "text/plain": [
       "   Rank      Genre  Movies Total Box Office     Tickets   Share\n",
       "0     1  Adventure    1064  $63,774,679,468  9133100587  27.33%\n",
       "1     2     Action    1027  $47,445,372,974  6732270946  20.33%"
      ]
     },
     "execution_count": 288,
     "metadata": {},
     "output_type": "execute_result"
    }
   ],
   "source": [
    "genres=pd.read_html(str(table))[0]\n",
    "genres.head(2)"
   ]
  },
  {
   "cell_type": "code",
   "execution_count": 50,
   "metadata": {},
   "outputs": [],
   "source": [
    "genres['Total Box Office'] = genres['Total Box Office'].replace({'\\$': ''}, regex=True)\n",
    "genres['Share'] = genres['Share'].replace({'%': ''}, regex=True)"
   ]
  },
  {
   "cell_type": "code",
   "execution_count": 52,
   "metadata": {},
   "outputs": [],
   "source": [
    "# convert dframe to tuple\n",
    "tuple_genres=list(genres.itertuples(index=False,name=None))\n"
   ]
  },
  {
   "cell_type": "code",
   "execution_count": 53,
   "metadata": {},
   "outputs": [
    {
     "name": "stdout",
     "output_type": "stream",
     "text": [
      "admin\n",
      "<mysql.connector.connection_cext.CMySQLConnection object at 0x10c332350>\n"
     ]
    }
   ],
   "source": [
    "import mysql.connector\n",
    "from mysql.connector import errorcode\n",
    "import config\n",
    "cnx = mysql.connector.connect(\n",
    "    host = config.my_cred['host'],\n",
    "    user = config.my_cred['user'],\n",
    "    passwd = config.my_cred['passwd']\n",
    ")\n",
    "print(config.my_cred['user'])\n",
    "print(cnx)"
   ]
  },
  {
   "cell_type": "code",
   "execution_count": 54,
   "metadata": {},
   "outputs": [],
   "source": [
    "cursor = cnx.cursor()"
   ]
  },
  {
   "cell_type": "code",
   "execution_count": 55,
   "metadata": {},
   "outputs": [],
   "source": [
    "db_name = 'movies'"
   ]
  },
  {
   "cell_type": "code",
   "execution_count": 56,
   "metadata": {},
   "outputs": [],
   "source": [
    "def create_database(cursor, database):\n",
    "    try:\n",
    "        cursor.execute(\n",
    "            \"CREATE DATABASE {} DEFAULT CHARACTER SET 'utf8'\".format(database))\n",
    "    except mysql.connector.Error as err:\n",
    "        print(\"Failed creating database: {}\".format(err))\n",
    "        exit(1)"
   ]
  },
  {
   "cell_type": "code",
   "execution_count": 57,
   "metadata": {},
   "outputs": [],
   "source": [
    "try:\n",
    "    cursor.execute(\"USE {}\".format(db_name))\n",
    "\n",
    "#if the previous line fails because there isn't a db by that name run this line\n",
    "\n",
    "except mysql.connector.Error as err:\n",
    "    print(\"Database {} does not exists.\".format(db_name))\n",
    "    if err.errno == errorcode.ER_BAD_DB_ERROR:\n",
    "        create_database(cursor, db_name)\n",
    "        print(\"Database {} created successfully.\".format(db_name))\n",
    "        cnx.database = db_name\n",
    "    else:\n",
    "        print(err)\n",
    "        exit(1)"
   ]
  },
  {
   "cell_type": "code",
   "execution_count": 62,
   "metadata": {},
   "outputs": [],
   "source": [
    "DB_NAME = 'movies'\n",
    "\n",
    "TABLES = {}\n",
    "TABLES['genre'] = (\n",
    "    \"CREATE TABLE genre (\"\n",
    "    \"  R_id varchar(20) NOT NULL,\"\n",
    "    \"  Genre varchar(190) NOT NULL,\"\n",
    "    \"  Movies int(190) NOT NULL,\"\n",
    "    \"  Total_Box_Office varchar(50) NOT NULL,\"\n",
    "    \"  Tickets int(50) NOT NULL,\"\n",
    "    \"  Share double(10,2) NOT NULL,\"\n",
    "    \"  PRIMARY KEY (R_id)\"\n",
    "    \") ENGINE=InnoDB\")\n",
    "\n"
   ]
  },
  {
   "cell_type": "code",
   "execution_count": 64,
   "metadata": {},
   "outputs": [
    {
     "name": "stdout",
     "output_type": "stream",
     "text": [
      "Creating table genre: already exists.\n"
     ]
    }
   ],
   "source": [
    "try:\n",
    "    cursor.execute(\"USE {}\".format(DB_NAME))\n",
    "\n",
    "#if the previous line fails because there isn't a db by that name run this line\n",
    "\n",
    "except mysql.connector.Error as err:\n",
    "    print(\"Database {} does not exists.\".format(DB_NAME))\n",
    "    if err.errno == errorcode.ER_BAD_DB_ERROR:\n",
    "        create_database(cursor, DB_NAME)\n",
    "        print(\"Database {} created successfully.\".format(DB_NAME))\n",
    "        cnx.database = DB_NAME\n",
    "    else:\n",
    "        print(err)\n",
    "        exit(1)\n",
    "        \n",
    "for table_name in TABLES:\n",
    "    table_description = TABLES[table_name]\n",
    "    try:\n",
    "        print(\"Creating table {}: \".format(table_name), end='')\n",
    "        cursor.execute(table_description)\n",
    "    except mysql.connector.Error as err:\n",
    "        if err.errno == errorcode.ER_TABLE_EXISTS_ERROR:\n",
    "            print(\"already exists.\")\n",
    "        else:\n",
    "            print(err.msg)\n",
    "    else:\n",
    "        print(\"OK\")\n",
    "\n",
    "# cursor.close()\n",
    "# cnx.close()"
   ]
  },
  {
   "cell_type": "code",
   "execution_count": 67,
   "metadata": {},
   "outputs": [
    {
     "name": "stdout",
     "output_type": "stream",
     "text": [
      "<mysql.connector.connection_cext.CMySQLConnection object at 0x10c347450>\n"
     ]
    }
   ],
   "source": [
    "import mysql.connector\n",
    "from mysql.connector import errorcode\n",
    "import config\n",
    "cnx = mysql.connector.connect(\n",
    "    host = config.my_cred['host'],\n",
    "    user = config.my_cred['user'],\n",
    "    passwd = config.my_cred['passwd']\n",
    ")\n",
    "cnx.database = 'movies'\n",
    "print(cnx)"
   ]
  },
  {
   "cell_type": "code",
   "execution_count": 68,
   "metadata": {},
   "outputs": [],
   "source": [
    "# cursor.close()\n",
    "# cnx.close()"
   ]
  },
  {
   "cell_type": "code",
   "execution_count": 69,
   "metadata": {},
   "outputs": [
    {
     "name": "stdout",
     "output_type": "stream",
     "text": [
      "<mysql.connector.connection_cext.CMySQLConnection object at 0x10c347cd0>\n"
     ]
    }
   ],
   "source": [
    "import mysql.connector\n",
    "from mysql.connector import errorcode\n",
    "import config\n",
    "cnx = mysql.connector.connect(\n",
    "    host = config.my_cred['host'],\n",
    "    user = config.my_cred['user'],\n",
    "    passwd = config.my_cred['passwd']\n",
    ")\n",
    "cnx.database = 'movies'\n",
    "print(cnx)"
   ]
  },
  {
   "cell_type": "code",
   "execution_count": 70,
   "metadata": {},
   "outputs": [],
   "source": [
    "cursor = cnx.cursor()"
   ]
  },
  {
   "cell_type": "code",
   "execution_count": 71,
   "metadata": {},
   "outputs": [
    {
     "ename": "IntegrityError",
     "evalue": "1062 (23000): Duplicate entry '1' for key 'PRIMARY'",
     "output_type": "error",
     "traceback": [
      "\u001b[0;31m---------------------------------------------------------------------------\u001b[0m",
      "\u001b[0;31mMySQLInterfaceError\u001b[0m                       Traceback (most recent call last)",
      "\u001b[0;32m/opt/anaconda3/lib/python3.7/site-packages/mysql/connector/connection_cext.py\u001b[0m in \u001b[0;36mcmd_query\u001b[0;34m(self, query, raw, buffered, raw_as_string)\u001b[0m\n\u001b[1;32m    488\u001b[0m                                \u001b[0mraw\u001b[0m\u001b[0;34m=\u001b[0m\u001b[0mraw\u001b[0m\u001b[0;34m,\u001b[0m \u001b[0mbuffered\u001b[0m\u001b[0;34m=\u001b[0m\u001b[0mbuffered\u001b[0m\u001b[0;34m,\u001b[0m\u001b[0;34m\u001b[0m\u001b[0;34m\u001b[0m\u001b[0m\n\u001b[0;32m--> 489\u001b[0;31m                                raw_as_string=raw_as_string)\n\u001b[0m\u001b[1;32m    490\u001b[0m         \u001b[0;32mexcept\u001b[0m \u001b[0mMySQLInterfaceError\u001b[0m \u001b[0;32mas\u001b[0m \u001b[0mexc\u001b[0m\u001b[0;34m:\u001b[0m\u001b[0;34m\u001b[0m\u001b[0;34m\u001b[0m\u001b[0m\n",
      "\u001b[0;31mMySQLInterfaceError\u001b[0m: Duplicate entry '1' for key 'PRIMARY'",
      "\nDuring handling of the above exception, another exception occurred:\n",
      "\u001b[0;31mIntegrityError\u001b[0m                            Traceback (most recent call last)",
      "\u001b[0;32m<ipython-input-71-91ab2aa4c89c>\u001b[0m in \u001b[0;36m<module>\u001b[0;34m\u001b[0m\n\u001b[1;32m      2\u001b[0m       \"\"\"INSERT INTO genre(R_id, Genre, Movies, Total_Box_Office, Tickets, Share)\n\u001b[1;32m      3\u001b[0m       VALUES (%s, %s, %s, %s, %s, %s)\"\"\",\n\u001b[0;32m----> 4\u001b[0;31m       tuple_genres)\n\u001b[0m\u001b[1;32m      5\u001b[0m \u001b[0mcnx\u001b[0m\u001b[0;34m.\u001b[0m\u001b[0mcommit\u001b[0m\u001b[0;34m(\u001b[0m\u001b[0;34m)\u001b[0m\u001b[0;34m\u001b[0m\u001b[0;34m\u001b[0m\u001b[0m\n",
      "\u001b[0;32m/opt/anaconda3/lib/python3.7/site-packages/mysql/connector/cursor_cext.py\u001b[0m in \u001b[0;36mexecutemany\u001b[0;34m(self, operation, seq_params)\u001b[0m\n\u001b[1;32m    350\u001b[0m             \u001b[0mstmt\u001b[0m \u001b[0;34m=\u001b[0m \u001b[0mself\u001b[0m\u001b[0;34m.\u001b[0m\u001b[0m_batch_insert\u001b[0m\u001b[0;34m(\u001b[0m\u001b[0moperation\u001b[0m\u001b[0;34m,\u001b[0m \u001b[0mseq_params\u001b[0m\u001b[0;34m)\u001b[0m\u001b[0;34m\u001b[0m\u001b[0;34m\u001b[0m\u001b[0m\n\u001b[1;32m    351\u001b[0m             \u001b[0;32mif\u001b[0m \u001b[0mstmt\u001b[0m \u001b[0;32mis\u001b[0m \u001b[0;32mnot\u001b[0m \u001b[0;32mNone\u001b[0m\u001b[0;34m:\u001b[0m\u001b[0;34m\u001b[0m\u001b[0;34m\u001b[0m\u001b[0m\n\u001b[0;32m--> 352\u001b[0;31m                 \u001b[0;32mreturn\u001b[0m \u001b[0mself\u001b[0m\u001b[0;34m.\u001b[0m\u001b[0mexecute\u001b[0m\u001b[0;34m(\u001b[0m\u001b[0mstmt\u001b[0m\u001b[0;34m)\u001b[0m\u001b[0;34m\u001b[0m\u001b[0;34m\u001b[0m\u001b[0m\n\u001b[0m\u001b[1;32m    353\u001b[0m \u001b[0;34m\u001b[0m\u001b[0m\n\u001b[1;32m    354\u001b[0m         \u001b[0mrowcnt\u001b[0m \u001b[0;34m=\u001b[0m \u001b[0;36m0\u001b[0m\u001b[0;34m\u001b[0m\u001b[0;34m\u001b[0m\u001b[0m\n",
      "\u001b[0;32m/opt/anaconda3/lib/python3.7/site-packages/mysql/connector/cursor_cext.py\u001b[0m in \u001b[0;36mexecute\u001b[0;34m(self, operation, params, multi)\u001b[0m\n\u001b[1;32m    264\u001b[0m             result = self._cnx.cmd_query(stmt, raw=self._raw,\n\u001b[1;32m    265\u001b[0m                                          \u001b[0mbuffered\u001b[0m\u001b[0;34m=\u001b[0m\u001b[0mself\u001b[0m\u001b[0;34m.\u001b[0m\u001b[0m_buffered\u001b[0m\u001b[0;34m,\u001b[0m\u001b[0;34m\u001b[0m\u001b[0;34m\u001b[0m\u001b[0m\n\u001b[0;32m--> 266\u001b[0;31m                                          raw_as_string=self._raw_as_string)\n\u001b[0m\u001b[1;32m    267\u001b[0m         \u001b[0;32mexcept\u001b[0m \u001b[0mMySQLInterfaceError\u001b[0m \u001b[0;32mas\u001b[0m \u001b[0mexc\u001b[0m\u001b[0;34m:\u001b[0m\u001b[0;34m\u001b[0m\u001b[0;34m\u001b[0m\u001b[0m\n\u001b[1;32m    268\u001b[0m             raise errors.get_mysql_exception(msg=exc.msg, errno=exc.errno,\n",
      "\u001b[0;32m/opt/anaconda3/lib/python3.7/site-packages/mysql/connector/connection_cext.py\u001b[0m in \u001b[0;36mcmd_query\u001b[0;34m(self, query, raw, buffered, raw_as_string)\u001b[0m\n\u001b[1;32m    490\u001b[0m         \u001b[0;32mexcept\u001b[0m \u001b[0mMySQLInterfaceError\u001b[0m \u001b[0;32mas\u001b[0m \u001b[0mexc\u001b[0m\u001b[0;34m:\u001b[0m\u001b[0;34m\u001b[0m\u001b[0;34m\u001b[0m\u001b[0m\n\u001b[1;32m    491\u001b[0m             raise errors.get_mysql_exception(exc.errno, msg=exc.msg,\n\u001b[0;32m--> 492\u001b[0;31m                                              sqlstate=exc.sqlstate)\n\u001b[0m\u001b[1;32m    493\u001b[0m         \u001b[0;32mexcept\u001b[0m \u001b[0mAttributeError\u001b[0m\u001b[0;34m:\u001b[0m\u001b[0;34m\u001b[0m\u001b[0;34m\u001b[0m\u001b[0m\n\u001b[1;32m    494\u001b[0m             \u001b[0;32mif\u001b[0m \u001b[0mself\u001b[0m\u001b[0;34m.\u001b[0m\u001b[0m_unix_socket\u001b[0m\u001b[0;34m:\u001b[0m\u001b[0;34m\u001b[0m\u001b[0;34m\u001b[0m\u001b[0m\n",
      "\u001b[0;31mIntegrityError\u001b[0m: 1062 (23000): Duplicate entry '1' for key 'PRIMARY'"
     ]
    }
   ],
   "source": [
    "cursor.executemany(\n",
    "      \"\"\"INSERT INTO genre(R_id, Genre, Movies, Total_Box_Office, Tickets, Share)\n",
    "      VALUES (%s, %s, %s, %s, %s, %s)\"\"\",\n",
    "      tuple_genres)\n",
    "cnx.commit()"
   ]
  },
  {
   "cell_type": "code",
   "execution_count": 72,
   "metadata": {},
   "outputs": [],
   "source": [
    "# individual genre"
   ]
  },
  {
   "cell_type": "code",
   "execution_count": 25,
   "metadata": {},
   "outputs": [],
   "source": [
    "list_gener = []\n",
    "\n",
    "for genre in genres['Genre']:\n",
    "    genre_url='https://www.the-numbers.com/market/genre/'+genre.replace('/','-or-').replace(' ','-')\n",
    "    res=requests.get(genre_url)\n",
    "    soup=BeautifulSoup(res.text,'html.parser')\n",
    "    tables=soup.find_all('table')\n",
    "    df2=pd.read_html(str(tables[1]))[0]\n",
    "    df2['Genre']=genre\n",
    "    list_gener.append(df2)\n",
    "for df in list_gener:\n",
    "        df['Id'] = df['Year'].apply(str).add(df['Genre'])"
   ]
  },
  {
   "cell_type": "code",
   "execution_count": 27,
   "metadata": {},
   "outputs": [
    {
     "data": {
      "text/html": [
       "<div>\n",
       "<style scoped>\n",
       "    .dataframe tbody tr th:only-of-type {\n",
       "        vertical-align: middle;\n",
       "    }\n",
       "\n",
       "    .dataframe tbody tr th {\n",
       "        vertical-align: top;\n",
       "    }\n",
       "\n",
       "    .dataframe thead th {\n",
       "        text-align: right;\n",
       "    }\n",
       "</style>\n",
       "<table border=\"1\" class=\"dataframe\">\n",
       "  <thead>\n",
       "    <tr style=\"text-align: right;\">\n",
       "      <th></th>\n",
       "      <th>Year</th>\n",
       "      <th>Movies inRelease</th>\n",
       "      <th>MarketShare</th>\n",
       "      <th>Gross</th>\n",
       "      <th>Tickets Sold</th>\n",
       "      <th>Inflation-AdjustedGross</th>\n",
       "      <th>Top-Grossing Movie</th>\n",
       "      <th>Gross that Year</th>\n",
       "      <th>Genre</th>\n",
       "      <th>Id</th>\n",
       "    </tr>\n",
       "  </thead>\n",
       "  <tbody>\n",
       "    <tr>\n",
       "      <td>0</td>\n",
       "      <td>1995</td>\n",
       "      <td>29</td>\n",
       "      <td>14.52%</td>\n",
       "      <td>$771,507,571</td>\n",
       "      <td>177358047</td>\n",
       "      <td>$1,615,731,808</td>\n",
       "      <td>Toy Story</td>\n",
       "      <td>$150,148,222</td>\n",
       "      <td>Adventure</td>\n",
       "      <td>1995Adventure</td>\n",
       "    </tr>\n",
       "    <tr>\n",
       "      <td>1</td>\n",
       "      <td>1996</td>\n",
       "      <td>34</td>\n",
       "      <td>22.37%</td>\n",
       "      <td>$1,290,490,033</td>\n",
       "      <td>291966054</td>\n",
       "      <td>$2,659,810,752</td>\n",
       "      <td>Independence Day</td>\n",
       "      <td>$306,169,255</td>\n",
       "      <td>Adventure</td>\n",
       "      <td>1996Adventure</td>\n",
       "    </tr>\n",
       "    <tr>\n",
       "      <td>2</td>\n",
       "      <td>1997</td>\n",
       "      <td>23</td>\n",
       "      <td>13.87%</td>\n",
       "      <td>$881,902,843</td>\n",
       "      <td>192135684</td>\n",
       "      <td>$1,750,356,081</td>\n",
       "      <td>Men in Black</td>\n",
       "      <td>$250,650,052</td>\n",
       "      <td>Adventure</td>\n",
       "      <td>1997Adventure</td>\n",
       "    </tr>\n",
       "    <tr>\n",
       "      <td>3</td>\n",
       "      <td>1998</td>\n",
       "      <td>29</td>\n",
       "      <td>23.84%</td>\n",
       "      <td>$1,614,467,732</td>\n",
       "      <td>344236174</td>\n",
       "      <td>$3,135,991,545</td>\n",
       "      <td>Armageddon</td>\n",
       "      <td>$201,578,182</td>\n",
       "      <td>Adventure</td>\n",
       "      <td>1998Adventure</td>\n",
       "    </tr>\n",
       "    <tr>\n",
       "      <td>4</td>\n",
       "      <td>1999</td>\n",
       "      <td>27</td>\n",
       "      <td>21.97%</td>\n",
       "      <td>$1,612,432,107</td>\n",
       "      <td>317407880</td>\n",
       "      <td>$2,891,585,787</td>\n",
       "      <td>Star Wars Ep. I: The Phanto…</td>\n",
       "      <td>$430,443,350</td>\n",
       "      <td>Adventure</td>\n",
       "      <td>1999Adventure</td>\n",
       "    </tr>\n",
       "    <tr>\n",
       "      <td>...</td>\n",
       "      <td>...</td>\n",
       "      <td>...</td>\n",
       "      <td>...</td>\n",
       "      <td>...</td>\n",
       "      <td>...</td>\n",
       "      <td>...</td>\n",
       "      <td>...</td>\n",
       "      <td>...</td>\n",
       "      <td>...</td>\n",
       "      <td>...</td>\n",
       "    </tr>\n",
       "    <tr>\n",
       "      <td>16</td>\n",
       "      <td>2017</td>\n",
       "      <td>5</td>\n",
       "      <td>0.04%</td>\n",
       "      <td>$4,614,134</td>\n",
       "      <td>514394</td>\n",
       "      <td>$4,686,129</td>\n",
       "      <td>2017 Oscar Shorts</td>\n",
       "      <td>$2,835,355</td>\n",
       "      <td>Multiple Genres</td>\n",
       "      <td>2017Multiple Genres</td>\n",
       "    </tr>\n",
       "    <tr>\n",
       "      <td>17</td>\n",
       "      <td>2018</td>\n",
       "      <td>3</td>\n",
       "      <td>0.04%</td>\n",
       "      <td>$4,787,450</td>\n",
       "      <td>525514</td>\n",
       "      <td>$4,787,433</td>\n",
       "      <td>2018 Oscar Shorts</td>\n",
       "      <td>$3,508,777</td>\n",
       "      <td>Multiple Genres</td>\n",
       "      <td>2018Multiple Genres</td>\n",
       "    </tr>\n",
       "    <tr>\n",
       "      <td>18</td>\n",
       "      <td>2019</td>\n",
       "      <td>2</td>\n",
       "      <td>0.03%</td>\n",
       "      <td>$3,545,060</td>\n",
       "      <td>389139</td>\n",
       "      <td>$3,545,056</td>\n",
       "      <td>2019 Oscar Shorts</td>\n",
       "      <td>$3,531,093</td>\n",
       "      <td>Multiple Genres</td>\n",
       "      <td>2019Multiple Genres</td>\n",
       "    </tr>\n",
       "    <tr>\n",
       "      <td>0</td>\n",
       "      <td>2014</td>\n",
       "      <td>1</td>\n",
       "      <td>0.00%</td>\n",
       "      <td>$16,826</td>\n",
       "      <td>2059</td>\n",
       "      <td>$18,757</td>\n",
       "      <td>The Principle</td>\n",
       "      <td>$16,826</td>\n",
       "      <td>Reality</td>\n",
       "      <td>2014Reality</td>\n",
       "    </tr>\n",
       "    <tr>\n",
       "      <td>1</td>\n",
       "      <td>2015</td>\n",
       "      <td>3</td>\n",
       "      <td>0.01%</td>\n",
       "      <td>$604,870</td>\n",
       "      <td>71751</td>\n",
       "      <td>$653,652</td>\n",
       "      <td>Benpao Ba! Xiongdi</td>\n",
       "      <td>$309,297</td>\n",
       "      <td>Reality</td>\n",
       "      <td>2015Reality</td>\n",
       "    </tr>\n",
       "  </tbody>\n",
       "</table>\n",
       "<p>322 rows × 10 columns</p>\n",
       "</div>"
      ],
      "text/plain": [
       "    Year  Movies inRelease MarketShare           Gross  Tickets Sold  \\\n",
       "0   1995                29      14.52%    $771,507,571     177358047   \n",
       "1   1996                34      22.37%  $1,290,490,033     291966054   \n",
       "2   1997                23      13.87%    $881,902,843     192135684   \n",
       "3   1998                29      23.84%  $1,614,467,732     344236174   \n",
       "4   1999                27      21.97%  $1,612,432,107     317407880   \n",
       "..   ...               ...         ...             ...           ...   \n",
       "16  2017                 5       0.04%      $4,614,134        514394   \n",
       "17  2018                 3       0.04%      $4,787,450        525514   \n",
       "18  2019                 2       0.03%      $3,545,060        389139   \n",
       "0   2014                 1       0.00%         $16,826          2059   \n",
       "1   2015                 3       0.01%        $604,870         71751   \n",
       "\n",
       "   Inflation-AdjustedGross            Top-Grossing Movie Gross that Year  \\\n",
       "0           $1,615,731,808                     Toy Story    $150,148,222   \n",
       "1           $2,659,810,752              Independence Day    $306,169,255   \n",
       "2           $1,750,356,081                  Men in Black    $250,650,052   \n",
       "3           $3,135,991,545                    Armageddon    $201,578,182   \n",
       "4           $2,891,585,787  Star Wars Ep. I: The Phanto…    $430,443,350   \n",
       "..                     ...                           ...             ...   \n",
       "16              $4,686,129             2017 Oscar Shorts      $2,835,355   \n",
       "17              $4,787,433             2018 Oscar Shorts      $3,508,777   \n",
       "18              $3,545,056             2019 Oscar Shorts      $3,531,093   \n",
       "0                  $18,757                 The Principle         $16,826   \n",
       "1                 $653,652            Benpao Ba! Xiongdi        $309,297   \n",
       "\n",
       "              Genre                   Id  \n",
       "0         Adventure        1995Adventure  \n",
       "1         Adventure        1996Adventure  \n",
       "2         Adventure        1997Adventure  \n",
       "3         Adventure        1998Adventure  \n",
       "4         Adventure        1999Adventure  \n",
       "..              ...                  ...  \n",
       "16  Multiple Genres  2017Multiple Genres  \n",
       "17  Multiple Genres  2018Multiple Genres  \n",
       "18  Multiple Genres  2019Multiple Genres  \n",
       "0           Reality          2014Reality  \n",
       "1           Reality          2015Reality  \n",
       "\n",
       "[322 rows x 10 columns]"
      ]
     },
     "execution_count": 27,
     "metadata": {},
     "output_type": "execute_result"
    }
   ],
   "source": [
    "df_genre=pd.concat(list_gener)\n",
    "df_genre"
   ]
  },
  {
   "cell_type": "code",
   "execution_count": 283,
   "metadata": {},
   "outputs": [],
   "source": [
    "df_genre_sub = df_genre[['Year','Genre','MarketShare']]"
   ]
  },
  {
   "cell_type": "code",
   "execution_count": 284,
   "metadata": {},
   "outputs": [
    {
     "name": "stderr",
     "output_type": "stream",
     "text": [
      "/opt/anaconda3/lib/python3.7/site-packages/ipykernel_launcher.py:1: SettingWithCopyWarning: \n",
      "A value is trying to be set on a copy of a slice from a DataFrame.\n",
      "Try using .loc[row_indexer,col_indexer] = value instead\n",
      "\n",
      "See the caveats in the documentation: http://pandas.pydata.org/pandas-docs/stable/user_guide/indexing.html#returning-a-view-versus-a-copy\n",
      "  \"\"\"Entry point for launching an IPython kernel.\n",
      "/opt/anaconda3/lib/python3.7/site-packages/ipykernel_launcher.py:2: SettingWithCopyWarning: \n",
      "A value is trying to be set on a copy of a slice from a DataFrame.\n",
      "Try using .loc[row_indexer,col_indexer] = value instead\n",
      "\n",
      "See the caveats in the documentation: http://pandas.pydata.org/pandas-docs/stable/user_guide/indexing.html#returning-a-view-versus-a-copy\n",
      "  \n"
     ]
    }
   ],
   "source": [
    "df_genre_sub['MarketShare'] = df_genre_sub['MarketShare'].str.replace('%', '')\n",
    "df_genre_sub['MarketShare'] = pd.to_numeric(df_genre_sub['MarketShare'], errors='coerce')"
   ]
  },
  {
   "cell_type": "code",
   "execution_count": 260,
   "metadata": {},
   "outputs": [
    {
     "name": "stderr",
     "output_type": "stream",
     "text": [
      "/opt/anaconda3/lib/python3.7/site-packages/ipykernel_launcher.py:1: SettingWithCopyWarning: \n",
      "A value is trying to be set on a copy of a slice from a DataFrame.\n",
      "Try using .loc[row_indexer,col_indexer] = value instead\n",
      "\n",
      "See the caveats in the documentation: http://pandas.pydata.org/pandas-docs/stable/user_guide/indexing.html#returning-a-view-versus-a-copy\n",
      "  \"\"\"Entry point for launching an IPython kernel.\n"
     ]
    }
   ],
   "source": [
    "df_genre_sub['MarketShare']=df_genre_sub['MarketShare']/100"
   ]
  },
  {
   "cell_type": "code",
   "execution_count": 285,
   "metadata": {},
   "outputs": [
    {
     "data": {
      "text/html": [
       "<div>\n",
       "<style scoped>\n",
       "    .dataframe tbody tr th:only-of-type {\n",
       "        vertical-align: middle;\n",
       "    }\n",
       "\n",
       "    .dataframe tbody tr th {\n",
       "        vertical-align: top;\n",
       "    }\n",
       "\n",
       "    .dataframe thead th {\n",
       "        text-align: right;\n",
       "    }\n",
       "</style>\n",
       "<table border=\"1\" class=\"dataframe\">\n",
       "  <thead>\n",
       "    <tr style=\"text-align: right;\">\n",
       "      <th></th>\n",
       "      <th>Year</th>\n",
       "      <th>Genre</th>\n",
       "      <th>MarketShare</th>\n",
       "    </tr>\n",
       "  </thead>\n",
       "  <tbody>\n",
       "    <tr>\n",
       "      <td>0</td>\n",
       "      <td>1995</td>\n",
       "      <td>Adventure</td>\n",
       "      <td>14.52</td>\n",
       "    </tr>\n",
       "    <tr>\n",
       "      <td>1</td>\n",
       "      <td>1996</td>\n",
       "      <td>Adventure</td>\n",
       "      <td>22.37</td>\n",
       "    </tr>\n",
       "    <tr>\n",
       "      <td>2</td>\n",
       "      <td>1997</td>\n",
       "      <td>Adventure</td>\n",
       "      <td>13.87</td>\n",
       "    </tr>\n",
       "    <tr>\n",
       "      <td>3</td>\n",
       "      <td>1998</td>\n",
       "      <td>Adventure</td>\n",
       "      <td>23.84</td>\n",
       "    </tr>\n",
       "    <tr>\n",
       "      <td>4</td>\n",
       "      <td>1999</td>\n",
       "      <td>Adventure</td>\n",
       "      <td>21.97</td>\n",
       "    </tr>\n",
       "    <tr>\n",
       "      <td>...</td>\n",
       "      <td>...</td>\n",
       "      <td>...</td>\n",
       "      <td>...</td>\n",
       "    </tr>\n",
       "    <tr>\n",
       "      <td>16</td>\n",
       "      <td>2017</td>\n",
       "      <td>Multiple Genres</td>\n",
       "      <td>0.04</td>\n",
       "    </tr>\n",
       "    <tr>\n",
       "      <td>17</td>\n",
       "      <td>2018</td>\n",
       "      <td>Multiple Genres</td>\n",
       "      <td>0.04</td>\n",
       "    </tr>\n",
       "    <tr>\n",
       "      <td>18</td>\n",
       "      <td>2019</td>\n",
       "      <td>Multiple Genres</td>\n",
       "      <td>0.03</td>\n",
       "    </tr>\n",
       "    <tr>\n",
       "      <td>0</td>\n",
       "      <td>2014</td>\n",
       "      <td>Reality</td>\n",
       "      <td>0.00</td>\n",
       "    </tr>\n",
       "    <tr>\n",
       "      <td>1</td>\n",
       "      <td>2015</td>\n",
       "      <td>Reality</td>\n",
       "      <td>0.01</td>\n",
       "    </tr>\n",
       "  </tbody>\n",
       "</table>\n",
       "<p>322 rows × 3 columns</p>\n",
       "</div>"
      ],
      "text/plain": [
       "    Year            Genre  MarketShare\n",
       "0   1995        Adventure        14.52\n",
       "1   1996        Adventure        22.37\n",
       "2   1997        Adventure        13.87\n",
       "3   1998        Adventure        23.84\n",
       "4   1999        Adventure        21.97\n",
       "..   ...              ...          ...\n",
       "16  2017  Multiple Genres         0.04\n",
       "17  2018  Multiple Genres         0.04\n",
       "18  2019  Multiple Genres         0.03\n",
       "0   2014          Reality         0.00\n",
       "1   2015          Reality         0.01\n",
       "\n",
       "[322 rows x 3 columns]"
      ]
     },
     "execution_count": 285,
     "metadata": {},
     "output_type": "execute_result"
    }
   ],
   "source": [
    "df_genre_sub"
   ]
  },
  {
   "cell_type": "code",
   "execution_count": 277,
   "metadata": {},
   "outputs": [
    {
     "data": {
      "text/plain": [
       "<seaborn.axisgrid.FacetGrid at 0x1a613889d0>"
      ]
     },
     "execution_count": 277,
     "metadata": {},
     "output_type": "execute_result"
    },
    {
     "data": {
      "image/png": "[encoded data removed]",
      "text/plain": [
       "<Figure size 1067.71x648 with 1 Axes>"
      ]
     },
     "metadata": {
      "needs_background": "light"
     },
     "output_type": "display_data"
    }
   ],
   "source": [
    "import seaborn as sns\n",
    " \n",
    "# Use the 'hue' argument to provide a factor variable\n",
    "sns.lmplot(x='Year',y='MarketShare',data=df_genre_sub,height=9, aspect=10/7,\n",
    "           fit_reg=True, hue='Genre', legend=True)\n"
   ]
  },
  {
   "cell_type": "code",
   "execution_count": 47,
   "metadata": {},
   "outputs": [],
   "source": [
    "# Most Profitable Movies, Based on Absolute Profit on Worldwide Gross"
   ]
  },
  {
   "cell_type": "code",
   "execution_count": 28,
   "metadata": {},
   "outputs": [],
   "source": [
    "html_page = requests.get('https://www.the-numbers.com/movie/budgets')\n",
    "soup = BeautifulSoup(html_page.content,'html.parser')"
   ]
  },
  {
   "cell_type": "code",
   "execution_count": 29,
   "metadata": {},
   "outputs": [],
   "source": [
    "tables=soup.find_all('table')"
   ]
  },
  {
   "cell_type": "code",
   "execution_count": 30,
   "metadata": {},
   "outputs": [],
   "source": [
    "profitable_movies=pd.read_html(str(tables[2]))[0]"
   ]
  },
  {
   "cell_type": "code",
   "execution_count": 286,
   "metadata": {
    "scrolled": true
   },
   "outputs": [
    {
     "data": {
      "text/html": [
       "<div>\n",
       "<style scoped>\n",
       "    .dataframe tbody tr th:only-of-type {\n",
       "        vertical-align: middle;\n",
       "    }\n",
       "\n",
       "    .dataframe tbody tr th {\n",
       "        vertical-align: top;\n",
       "    }\n",
       "\n",
       "    .dataframe thead th {\n",
       "        text-align: right;\n",
       "    }\n",
       "</style>\n",
       "<table border=\"1\" class=\"dataframe\">\n",
       "  <thead>\n",
       "    <tr style=\"text-align: right;\">\n",
       "      <th></th>\n",
       "      <th>Release Date</th>\n",
       "      <th>Movie</th>\n",
       "      <th>Approx. Income</th>\n",
       "      <th>Approx. Expense</th>\n",
       "      <th>Profit</th>\n",
       "    </tr>\n",
       "  </thead>\n",
       "  <tbody>\n",
       "    <tr>\n",
       "      <td>0</td>\n",
       "      <td>Dec 18, 2009</td>\n",
       "      <td>Avatar</td>\n",
       "      <td>$1,796,427,464</td>\n",
       "      <td>$328,262,000</td>\n",
       "      <td>$1,468,165,464</td>\n",
       "    </tr>\n",
       "    <tr>\n",
       "      <td>2</td>\n",
       "      <td>Apr 26, 2019</td>\n",
       "      <td>Avengers: Endgame</td>\n",
       "      <td>$1,479,816,843</td>\n",
       "      <td>$475,560,000</td>\n",
       "      <td>$1,004,256,843</td>\n",
       "    </tr>\n",
       "    <tr>\n",
       "      <td>4</td>\n",
       "      <td>Dec 18, 2015</td>\n",
       "      <td>Star Wars Ep. VII: The Force Awakens</td>\n",
       "      <td>$1,224,827,707</td>\n",
       "      <td>$381,704,000</td>\n",
       "      <td>$843,123,707</td>\n",
       "    </tr>\n",
       "    <tr>\n",
       "      <td>6</td>\n",
       "      <td>Nov 22, 2013</td>\n",
       "      <td>Frozen</td>\n",
       "      <td>$1,042,311,056</td>\n",
       "      <td>$245,904,000</td>\n",
       "      <td>$796,407,056</td>\n",
       "    </tr>\n",
       "    <tr>\n",
       "      <td>8</td>\n",
       "      <td>Nov 18, 2005</td>\n",
       "      <td>Harry Potter and the Goblet of Fire</td>\n",
       "      <td>$997,569,652</td>\n",
       "      <td>$208,064,000</td>\n",
       "      <td>$789,505,652</td>\n",
       "    </tr>\n",
       "    <tr>\n",
       "      <td>10</td>\n",
       "      <td>Apr 27, 2018</td>\n",
       "      <td>Avengers: Infinity War</td>\n",
       "      <td>$1,125,651,663</td>\n",
       "      <td>$368,812,000</td>\n",
       "      <td>$756,839,663</td>\n",
       "    </tr>\n",
       "    <tr>\n",
       "      <td>12</td>\n",
       "      <td>May 4, 2012</td>\n",
       "      <td>The Avengers</td>\n",
       "      <td>$998,554,456</td>\n",
       "      <td>$300,290,000</td>\n",
       "      <td>$698,264,456</td>\n",
       "    </tr>\n",
       "    <tr>\n",
       "      <td>14</td>\n",
       "      <td>Jun 12, 2015</td>\n",
       "      <td>Jurassic World</td>\n",
       "      <td>$962,588,221</td>\n",
       "      <td>$287,756,000</td>\n",
       "      <td>$674,832,221</td>\n",
       "    </tr>\n",
       "    <tr>\n",
       "      <td>16</td>\n",
       "      <td>Jul 15, 2011</td>\n",
       "      <td>Harry Potter and the Deathly Hallows: Part II</td>\n",
       "      <td>$833,252,878</td>\n",
       "      <td>$177,306,000</td>\n",
       "      <td>$655,946,878</td>\n",
       "    </tr>\n",
       "    <tr>\n",
       "      <td>18</td>\n",
       "      <td>Jul 3, 2013</td>\n",
       "      <td>Despicable Me 2</td>\n",
       "      <td>$735,831,589</td>\n",
       "      <td>$143,056,000</td>\n",
       "      <td>$592,775,589</td>\n",
       "    </tr>\n",
       "    <tr>\n",
       "      <td>20</td>\n",
       "      <td>Apr 3, 2015</td>\n",
       "      <td>Furious 7</td>\n",
       "      <td>$831,596,184</td>\n",
       "      <td>$245,576,000</td>\n",
       "      <td>$586,020,184</td>\n",
       "    </tr>\n",
       "    <tr>\n",
       "      <td>22</td>\n",
       "      <td>Jul 7, 2006</td>\n",
       "      <td>Pirates of the Caribbean: Dead Manâs Chest</td>\n",
       "      <td>$859,109,301</td>\n",
       "      <td>$293,790,000</td>\n",
       "      <td>$565,319,301</td>\n",
       "    </tr>\n",
       "    <tr>\n",
       "      <td>24</td>\n",
       "      <td>Dec 9, 2005</td>\n",
       "      <td>The Chronicles of Narnia: The Lion, the Witch ...</td>\n",
       "      <td>$808,363,868</td>\n",
       "      <td>$247,308,000</td>\n",
       "      <td>$561,055,868</td>\n",
       "    </tr>\n",
       "    <tr>\n",
       "      <td>26</td>\n",
       "      <td>Jul 10, 2015</td>\n",
       "      <td>Minions</td>\n",
       "      <td>$699,159,915</td>\n",
       "      <td>$141,424,000</td>\n",
       "      <td>$557,735,915</td>\n",
       "    </tr>\n",
       "    <tr>\n",
       "      <td>28</td>\n",
       "      <td>Jul 18, 2008</td>\n",
       "      <td>The Dark Knight</td>\n",
       "      <td>$818,004,127</td>\n",
       "      <td>$263,340,000</td>\n",
       "      <td>$554,664,127</td>\n",
       "    </tr>\n",
       "    <tr>\n",
       "      <td>30</td>\n",
       "      <td>Jul 11, 2007</td>\n",
       "      <td>Harry Potter and the Order of the Phoenix</td>\n",
       "      <td>$730,154,345</td>\n",
       "      <td>$202,594,000</td>\n",
       "      <td>$527,560,345</td>\n",
       "    </tr>\n",
       "    <tr>\n",
       "      <td>32</td>\n",
       "      <td>Jul 19, 2019</td>\n",
       "      <td>The Lion King</td>\n",
       "      <td>$863,848,118</td>\n",
       "      <td>$341,924,000</td>\n",
       "      <td>$521,924,118</td>\n",
       "    </tr>\n",
       "    <tr>\n",
       "      <td>34</td>\n",
       "      <td>Jun 18, 2010</td>\n",
       "      <td>Toy Story 3</td>\n",
       "      <td>$786,473,935</td>\n",
       "      <td>$267,398,000</td>\n",
       "      <td>$519,075,935</td>\n",
       "    </tr>\n",
       "    <tr>\n",
       "      <td>36</td>\n",
       "      <td>Dec 15, 2017</td>\n",
       "      <td>Star Wars Ep. VIII: The Last Jedi</td>\n",
       "      <td>$756,951,233</td>\n",
       "      <td>$256,370,000</td>\n",
       "      <td>$500,581,233</td>\n",
       "    </tr>\n",
       "    <tr>\n",
       "      <td>38</td>\n",
       "      <td>Feb 16, 2018</td>\n",
       "      <td>Black Panther</td>\n",
       "      <td>$769,522,206</td>\n",
       "      <td>$280,472,000</td>\n",
       "      <td>$489,050,206</td>\n",
       "    </tr>\n",
       "  </tbody>\n",
       "</table>\n",
       "</div>"
      ],
      "text/plain": [
       "    Release Date                                              Movie  \\\n",
       "0   Dec 18, 2009                                             Avatar   \n",
       "2   Apr 26, 2019                                  Avengers: Endgame   \n",
       "4   Dec 18, 2015               Star Wars Ep. VII: The Force Awakens   \n",
       "6   Nov 22, 2013                                             Frozen   \n",
       "8   Nov 18, 2005                Harry Potter and the Goblet of Fire   \n",
       "10  Apr 27, 2018                             Avengers: Infinity War   \n",
       "12   May 4, 2012                                       The Avengers   \n",
       "14  Jun 12, 2015                                     Jurassic World   \n",
       "16  Jul 15, 2011      Harry Potter and the Deathly Hallows: Part II   \n",
       "18   Jul 3, 2013                                    Despicable Me 2   \n",
       "20   Apr 3, 2015                                          Furious 7   \n",
       "22   Jul 7, 2006       Pirates of the Caribbean: Dead Manâs Chest   \n",
       "24   Dec 9, 2005  The Chronicles of Narnia: The Lion, the Witch ...   \n",
       "26  Jul 10, 2015                                            Minions   \n",
       "28  Jul 18, 2008                                    The Dark Knight   \n",
       "30  Jul 11, 2007          Harry Potter and the Order of the Phoenix   \n",
       "32  Jul 19, 2019                                      The Lion King   \n",
       "34  Jun 18, 2010                                        Toy Story 3   \n",
       "36  Dec 15, 2017                  Star Wars Ep. VIII: The Last Jedi   \n",
       "38  Feb 16, 2018                                      Black Panther   \n",
       "\n",
       "    Approx. Income Approx. Expense          Profit  \n",
       "0   $1,796,427,464    $328,262,000  $1,468,165,464  \n",
       "2   $1,479,816,843    $475,560,000  $1,004,256,843  \n",
       "4   $1,224,827,707    $381,704,000    $843,123,707  \n",
       "6   $1,042,311,056    $245,904,000    $796,407,056  \n",
       "8     $997,569,652    $208,064,000    $789,505,652  \n",
       "10  $1,125,651,663    $368,812,000    $756,839,663  \n",
       "12    $998,554,456    $300,290,000    $698,264,456  \n",
       "14    $962,588,221    $287,756,000    $674,832,221  \n",
       "16    $833,252,878    $177,306,000    $655,946,878  \n",
       "18    $735,831,589    $143,056,000    $592,775,589  \n",
       "20    $831,596,184    $245,576,000    $586,020,184  \n",
       "22    $859,109,301    $293,790,000    $565,319,301  \n",
       "24    $808,363,868    $247,308,000    $561,055,868  \n",
       "26    $699,159,915    $141,424,000    $557,735,915  \n",
       "28    $818,004,127    $263,340,000    $554,664,127  \n",
       "30    $730,154,345    $202,594,000    $527,560,345  \n",
       "32    $863,848,118    $341,924,000    $521,924,118  \n",
       "34    $786,473,935    $267,398,000    $519,075,935  \n",
       "36    $756,951,233    $256,370,000    $500,581,233  \n",
       "38    $769,522,206    $280,472,000    $489,050,206  "
      ]
     },
     "execution_count": 286,
     "metadata": {},
     "output_type": "execute_result"
    }
   ],
   "source": [
    "profitable_movies.dropna(inplace=True)\n",
    "profitable_movies"
   ]
  },
  {
   "cell_type": "code",
   "execution_count": 281,
   "metadata": {},
   "outputs": [],
   "source": [
    "# convert dframe to tuple\n",
    "tuple_profitable=list(profitable_movies.itertuples(index=False,name=None))"
   ]
  },
  {
   "cell_type": "code",
   "execution_count": 282,
   "metadata": {},
   "outputs": [
    {
     "data": {
      "text/plain": [
       "('Dec 18, 2009', 'Avatar', '$1,796,427,464', '$328,262,000', '$1,468,165,464')"
      ]
     },
     "execution_count": 282,
     "metadata": {},
     "output_type": "execute_result"
    }
   ],
   "source": [
    "tuple_profitable[0]"
   ]
  },
  {
   "cell_type": "code",
   "execution_count": 74,
   "metadata": {},
   "outputs": [
    {
     "name": "stdout",
     "output_type": "stream",
     "text": [
      "<mysql.connector.connection_cext.CMySQLConnection object at 0x10c34d190>\n"
     ]
    }
   ],
   "source": [
    "import mysql.connector\n",
    "from mysql.connector import errorcode\n",
    "import config\n",
    "cnx = mysql.connector.connect(\n",
    "    host = config.my_cred['host'],\n",
    "    user = config.my_cred['user'],\n",
    "    passwd = config.my_cred['passwd']\n",
    ")\n",
    "\n",
    "print(cnx)"
   ]
  },
  {
   "cell_type": "code",
   "execution_count": 75,
   "metadata": {},
   "outputs": [],
   "source": [
    "cursor = cnx.cursor()"
   ]
  },
  {
   "cell_type": "code",
   "execution_count": 90,
   "metadata": {},
   "outputs": [],
   "source": [
    "DB_NAME = 'movies'\n",
    "\n",
    "TABLES = {}\n",
    "TABLES['profitable'] = (\n",
    "    \"CREATE TABLE profitable (\"\n",
    "    \"  Release_Date varchar(30) NOT NULL,\"\n",
    "    \"  Movie varchar(190) NOT NULL,\"\n",
    "    \"  Approx_Income varchar(12) NOT NULL,\"\n",
    "    \"  Approx_Expense varchar(12) NOT NULL,\"\n",
    "    \"  Profit  varchar(12) NOT NULL\"\n",
    "    \") ENGINE=InnoDB\")"
   ]
  },
  {
   "cell_type": "code",
   "execution_count": 91,
   "metadata": {},
   "outputs": [
    {
     "name": "stdout",
     "output_type": "stream",
     "text": [
      "Creating table profitable: OK\n"
     ]
    }
   ],
   "source": [
    "try:\n",
    "    cursor.execute(\"USE {}\".format(DB_NAME))\n",
    "\n",
    "#if the previous line fails because there isn't a db by that name run this line\n",
    "\n",
    "except mysql.connector.Error as err:\n",
    "    print(\"Database {} does not exists.\".format(DB_NAME))\n",
    "    if err.errno == errorcode.ER_BAD_DB_ERROR:\n",
    "        create_database(cursor, DB_NAME)\n",
    "        print(\"Database {} created successfully.\".format(DB_NAME))\n",
    "        cnx.database = DB_NAME\n",
    "    else:\n",
    "        print(err)\n",
    "        exit(1)\n",
    "        \n",
    "for table_name in TABLES:\n",
    "    table_description = TABLES[table_name]\n",
    "    try:\n",
    "        print(\"Creating table {}: \".format(table_name), end='')\n",
    "        cursor.execute(table_description)\n",
    "    except mysql.connector.Error as err:\n",
    "        if err.errno == errorcode.ER_TABLE_EXISTS_ERROR:\n",
    "            print(\"already exists.\")\n",
    "        else:\n",
    "            print(err.msg)\n",
    "    else:\n",
    "        print(\"OK\")\n",
    "\n",
    "# cursor.close()\n",
    "# cnx.close()"
   ]
  },
  {
   "cell_type": "code",
   "execution_count": 92,
   "metadata": {},
   "outputs": [],
   "source": [
    "cursor.executemany(\n",
    "      \"\"\"INSERT INTO profitable\n",
    "      (Release_Date, Movie , Approx_Income, Approx_Expense, Profit)\n",
    "      VALUES (%s,%s,%s,%s,%s)\"\"\",\n",
    "      tuple_profitable)\n",
    "cnx.commit()\n"
   ]
  },
  {
   "cell_type": "code",
   "execution_count": 60,
   "metadata": {},
   "outputs": [],
   "source": [
    "# Biggest Money Losers, Based on Absolute Loss on Worldwide Earnings"
   ]
  },
  {
   "cell_type": "code",
   "execution_count": 101,
   "metadata": {},
   "outputs": [],
   "source": [
    "html_page = requests.get('https://www.the-numbers.com/movie/budgets')\n",
    "soup = BeautifulSoup(html_page.content,'html.parser')"
   ]
  },
  {
   "cell_type": "code",
   "execution_count": 102,
   "metadata": {},
   "outputs": [],
   "source": [
    "tables=soup.find_all('table')"
   ]
  },
  {
   "cell_type": "code",
   "execution_count": 103,
   "metadata": {},
   "outputs": [],
   "source": [
    "money_losers=pd.read_html(str(tables[4]))[0]"
   ]
  },
  {
   "cell_type": "code",
   "execution_count": 113,
   "metadata": {},
   "outputs": [],
   "source": [
    "money_losers.dropna(inplace=True)\n",
    "money_losers.drop(columns='Unnamed: 0',inplace=True)"
   ]
  },
  {
   "cell_type": "code",
   "execution_count": 114,
   "metadata": {},
   "outputs": [
    {
     "data": {
      "text/plain": [
       "[('Mar 11, 2011',\n",
       "  'Mars Needs Moms',\n",
       "  '$26,754,640',\n",
       "  '$170,166,000',\n",
       "  '-$143,411,360'),\n",
       " ('Mar 9, 2012',\n",
       "  'John Carter',\n",
       "  '$180,857,835',\n",
       "  '$295,824,000',\n",
       "  '-$114,966,165'),\n",
       " ('May 12, 2017',\n",
       "  'King Arthur: Legend of the Sword',\n",
       "  '$84,936,081',\n",
       "  '$199,580,000',\n",
       "  '-$114,643,919'),\n",
       " ('Sep 30, 2016',\n",
       "  'Deepwater Horizon',\n",
       "  '$78,201,830',\n",
       "  '$189,348,000',\n",
       "  '-$111,146,170'),\n",
       " ('Jan 13, 2017',\n",
       "  'Monster Trucks',\n",
       "  '$39,953,396',\n",
       "  '$149,450,000',\n",
       "  '-$109,496,604'),\n",
       " ('Mar 1, 2013',\n",
       "  'Jack the Giant Slayer',\n",
       "  '$123,521,590',\n",
       "  '$228,504,000',\n",
       "  '-$104,982,410'),\n",
       " ('Dec 17, 2010',\n",
       "  'How Do You Know?',\n",
       "  '$35,567,429',\n",
       "  '$140,454,000',\n",
       "  '-$104,886,571'),\n",
       " ('Dec 25, 2013', '47 Ronin', '$93,230,564', '$189,988,000', '-$96,757,436'),\n",
       " ('Feb 6, 2015',\n",
       "  'Jupiter Ascending',\n",
       "  '$110,744,962',\n",
       "  '$206,582,000',\n",
       "  '-$95,837,038'),\n",
       " ('Apr 21, 2017', 'The Promise', '$6,231,500', '$99,886,000', '-$93,654,500'),\n",
       " ('Jul 19, 2013', 'R.I.P.D.', '$55,183,070', '$147,884,000', '-$92,700,930'),\n",
       " ('Nov 23, 2011', 'Hugo', '$124,394,940', '$215,796,000', '-$91,401,060'),\n",
       " ('May 22, 2015',\n",
       "  'Tomorrowland',\n",
       "  '$115,258,422',\n",
       "  '$205,644,000',\n",
       "  '-$90,385,578'),\n",
       " ('Jun 22, 2007',\n",
       "  'Evan Almighty',\n",
       "  '$125,422,170',\n",
       "  '$212,964,000',\n",
       "  '-$87,541,830'),\n",
       " ('Oct 9, 2015', 'Pan', '$89,022,847', '$174,726,000', '-$85,703,153'),\n",
       " ('Jun 7, 2019',\n",
       "  'Dark Phoenix',\n",
       "  '$140,078,008',\n",
       "  '$223,688,000',\n",
       "  '-$83,609,992'),\n",
       " ('Jul 21, 2017',\n",
       "  'Valerian and the City of a Thousand Planets',\n",
       "  '$120,369,062',\n",
       "  '$202,258,000',\n",
       "  '-$81,888,938'),\n",
       " ('May 9, 2008', 'Speed Racer', '$69,508,789', '$149,420,000', '-$79,911,211'),\n",
       " ('Feb 26, 2016',\n",
       "  'Gods of Egypt',\n",
       "  '$85,719,609',\n",
       "  '$161,930,000',\n",
       "  '-$76,210,391'),\n",
       " ('Feb 12, 2010',\n",
       "  'The Wolfman',\n",
       "  '$98,459,445',\n",
       "  '$174,496,000',\n",
       "  '-$76,036,555')]"
      ]
     },
     "execution_count": 114,
     "metadata": {},
     "output_type": "execute_result"
    }
   ],
   "source": [
    "# convert dframe to tuple\n",
    "tuple_loss=list(money_losers.itertuples(index=False,name=None))\n",
    "tuple_loss"
   ]
  },
  {
   "cell_type": "code",
   "execution_count": 93,
   "metadata": {},
   "outputs": [
    {
     "name": "stdout",
     "output_type": "stream",
     "text": [
      "<mysql.connector.connection_cext.CMySQLConnection object at 0x121fac450>\n"
     ]
    }
   ],
   "source": [
    "import mysql.connector\n",
    "from mysql.connector import errorcode\n",
    "import config\n",
    "cnx = mysql.connector.connect(\n",
    "    host = config.my_cred['host'],\n",
    "    user = config.my_cred['user'],\n",
    "    passwd = config.my_cred['passwd']\n",
    ")\n",
    "cnx.database = 'movies'\n",
    "print(cnx)"
   ]
  },
  {
   "cell_type": "code",
   "execution_count": 94,
   "metadata": {},
   "outputs": [],
   "source": [
    "cursor = cnx.cursor()"
   ]
  },
  {
   "cell_type": "code",
   "execution_count": 107,
   "metadata": {},
   "outputs": [],
   "source": [
    "DB_NAME = 'movies'\n",
    "\n",
    "TABLES = {}\n",
    "TABLES['loss'] = (\n",
    "    \"CREATE TABLE loss (\"\n",
    "    \"  Release_Date varchar(30) NOT NULL,\"\n",
    "    \"  Movie varchar(190) NOT NULL,\"\n",
    "    \"  Approx_Income varchar(12) NOT NULL,\"\n",
    "    \"  Approx_Expense varchar(12) NOT NULL,\"\n",
    "    \"  loss varchar(12) NOT NULL\"\n",
    "    \") ENGINE=InnoDB\")"
   ]
  },
  {
   "cell_type": "code",
   "execution_count": 108,
   "metadata": {},
   "outputs": [
    {
     "name": "stdout",
     "output_type": "stream",
     "text": [
      "Creating table loss: OK\n"
     ]
    }
   ],
   "source": [
    "try:\n",
    "    cursor.execute(\"USE {}\".format(DB_NAME))\n",
    "\n",
    "#if the previous line fails because there isn't a db by that name run this line\n",
    "\n",
    "except mysql.connector.Error as err:\n",
    "    print(\"Database {} does not exists.\".format(DB_NAME))\n",
    "    if err.errno == errorcode.ER_BAD_DB_ERROR:\n",
    "        create_database(cursor, DB_NAME)\n",
    "        print(\"Database {} created successfully.\".format(DB_NAME))\n",
    "        cnx.database = DB_NAME\n",
    "    else:\n",
    "        print(err)\n",
    "        exit(1)\n",
    "        \n",
    "for table_name in TABLES:\n",
    "    table_description = TABLES[table_name]\n",
    "    try:\n",
    "        print(\"Creating table {}: \".format(table_name), end='')\n",
    "        cursor.execute(table_description)\n",
    "    except mysql.connector.Error as err:\n",
    "        if err.errno == errorcode.ER_TABLE_EXISTS_ERROR:\n",
    "            print(\"already exists.\")\n",
    "        else:\n",
    "            print(err.msg)\n",
    "    else:\n",
    "        print(\"OK\")\n",
    "\n",
    "# cursor.close()\n",
    "# cnx.close()"
   ]
  },
  {
   "cell_type": "code",
   "execution_count": 115,
   "metadata": {},
   "outputs": [],
   "source": [
    "cursor.executemany(\n",
    "      \"\"\"INSERT INTO loss (Release_Date, Movie , Approx_Income, Approx_Expense, loss)\n",
    "      VALUES (%s,%s,%s,%s,%s)\"\"\",\n",
    "      tuple_loss)\n",
    "cnx.commit()"
   ]
  },
  {
   "cell_type": "code",
   "execution_count": null,
   "metadata": {},
   "outputs": [],
   "source": []
  },
  {
   "cell_type": "code",
   "execution_count": null,
   "metadata": {},
   "outputs": [],
   "source": []
  },
  {
   "cell_type": "code",
   "execution_count": null,
   "metadata": {},
   "outputs": [],
   "source": []
  },
  {
   "cell_type": "code",
   "execution_count": null,
   "metadata": {},
   "outputs": [],
   "source": []
  },
  {
   "cell_type": "code",
   "execution_count": null,
   "metadata": {},
   "outputs": [],
   "source": []
  },
  {
   "cell_type": "code",
   "execution_count": null,
   "metadata": {},
   "outputs": [],
   "source": []
  },
  {
   "cell_type": "code",
   "execution_count": null,
   "metadata": {},
   "outputs": [],
   "source": []
  },
  {
   "cell_type": "code",
   "execution_count": null,
   "metadata": {},
   "outputs": [],
   "source": []
  },
  {
   "cell_type": "code",
   "execution_count": null,
   "metadata": {},
   "outputs": [],
   "source": []
  },
  {
   "cell_type": "code",
   "execution_count": 40,
   "metadata": {},
   "outputs": [],
   "source": [
    "# import pandas as pd\n",
    "# from bs4 import BeautifulSoup\n",
    "# soup = BeautifulSoup('html_page', 'lxml') # Parse the HTML as a string\n",
    "# table = soup.find_all('table')[0] # Grab the first table\n",
    "# new_table = pd.DataFrame(columns=range(0,2), index = [0]) # I know the size \n",
    "# row_marker = 0\n",
    "# for row in table.find_all('tr'):\n",
    "#     column_marker = 0\n",
    "#     columns = row.find_all('td')\n",
    "#     for column in columns:\n",
    "#         new_table.iat[row_marker,column_marker] = column.get_text()\n",
    "#         column_marker += 1\n",
    "    \n",
    "# new_table"
   ]
  },
  {
   "cell_type": "code",
   "execution_count": 41,
   "metadata": {},
   "outputs": [],
   "source": [
    "# adventure_movies = soup.find('div',{'id':'page_filling_chart'})\n",
    "# tables=adventure_movies.find_all('table')"
   ]
  },
  {
   "cell_type": "code",
   "execution_count": 14,
   "metadata": {},
   "outputs": [],
   "source": [
    "# data=[]\n",
    "\n",
    "# rows=tables[0].findAll('tr')\n",
    "# for tr in rows:\n",
    "#     cols=tr.findAll('td')\n",
    "#     text_tuple = tuple([td.text.replace('\\n','').replace('\\xa0','').replace(' ','') for td in cols])\n",
    "#     data.append(text_tuple)\n",
    "\n"
   ]
  },
  {
   "cell_type": "code",
   "execution_count": 17,
   "metadata": {},
   "outputs": [],
   "source": [
    "# import pandas as pd\n",
    "# a=pd.DataFrame(data)"
   ]
  },
  {
   "cell_type": "code",
   "execution_count": 19,
   "metadata": {},
   "outputs": [],
   "source": [
    "# a.head()"
   ]
  },
  {
   "cell_type": "code",
   "execution_count": null,
   "metadata": {},
   "outputs": [],
   "source": []
  },
  {
   "cell_type": "code",
   "execution_count": null,
   "metadata": {},
   "outputs": [],
   "source": []
  },
  {
   "cell_type": "code",
   "execution_count": null,
   "metadata": {},
   "outputs": [],
   "source": []
  },
  {
   "cell_type": "code",
   "execution_count": null,
   "metadata": {},
   "outputs": [],
   "source": []
  },
  {
   "cell_type": "code",
   "execution_count": null,
   "metadata": {},
   "outputs": [],
   "source": []
  },
  {
   "cell_type": "code",
   "execution_count": null,
   "metadata": {},
   "outputs": [],
   "source": []
  },
  {
   "cell_type": "code",
   "execution_count": null,
   "metadata": {},
   "outputs": [],
   "source": []
  }
 ],
 "metadata": {
  "kernelspec": {
   "display_name": "Python 3",
   "language": "python",
   "name": "python3"
  },
  "language_info": {
   "codemirror_mode": {
    "name": "ipython",
    "version": 3
   },
   "file_extension": ".py",
   "mimetype": "text/x-python",
   "name": "python",
   "nbconvert_exporter": "python",
   "pygments_lexer": "ipython3",
   "version": "3.7.4"
  }
 },
 "nbformat": 4,
 "nbformat_minor": 2
}
