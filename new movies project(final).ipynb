{
 "cells": [
  {
   "cell_type": "code",
   "execution_count": 78,
   "metadata": {},
   "outputs": [],
   "source": [
    "import requests\n",
    "import pandas as pd\n",
    "from bs4 import BeautifulSoup"
   ]
  },
  {
   "cell_type": "code",
   "execution_count": 79,
   "metadata": {},
   "outputs": [],
   "source": [
    "# Market Share for Each Genre 1995-2020"
   ]
  },
  {
   "cell_type": "code",
   "execution_count": 80,
   "metadata": {},
   "outputs": [],
   "source": [
    "html_page = requests.get('https://www.the-numbers.com/market/genres')\n",
    "soup = BeautifulSoup(html_page.content,'html.parser')"
   ]
  },
  {
   "cell_type": "code",
   "execution_count": 81,
   "metadata": {},
   "outputs": [],
   "source": [
    "table=soup.find('table')\n"
   ]
  },
  {
   "cell_type": "code",
   "execution_count": 82,
   "metadata": {},
   "outputs": [
    {
     "data": {
      "text/html": [
       "<div>\n",
       "<style scoped>\n",
       "    .dataframe tbody tr th:only-of-type {\n",
       "        vertical-align: middle;\n",
       "    }\n",
       "\n",
       "    .dataframe tbody tr th {\n",
       "        vertical-align: top;\n",
       "    }\n",
       "\n",
       "    .dataframe thead th {\n",
       "        text-align: right;\n",
       "    }\n",
       "</style>\n",
       "<table border=\"1\" class=\"dataframe\">\n",
       "  <thead>\n",
       "    <tr style=\"text-align: right;\">\n",
       "      <th></th>\n",
       "      <th>Rank</th>\n",
       "      <th>Genre</th>\n",
       "      <th>Movies</th>\n",
       "      <th>Total Box Office</th>\n",
       "      <th>Tickets</th>\n",
       "      <th>Share</th>\n",
       "    </tr>\n",
       "  </thead>\n",
       "  <tbody>\n",
       "    <tr>\n",
       "      <td>0</td>\n",
       "      <td>1</td>\n",
       "      <td>Adventure</td>\n",
       "      <td>1064</td>\n",
       "      <td>$63,774,679,468</td>\n",
       "      <td>9133100587</td>\n",
       "      <td>27.33%</td>\n",
       "    </tr>\n",
       "    <tr>\n",
       "      <td>1</td>\n",
       "      <td>2</td>\n",
       "      <td>Action</td>\n",
       "      <td>1027</td>\n",
       "      <td>$47,447,371,271</td>\n",
       "      <td>6732490298</td>\n",
       "      <td>20.33%</td>\n",
       "    </tr>\n",
       "    <tr>\n",
       "      <td>2</td>\n",
       "      <td>3</td>\n",
       "      <td>Drama</td>\n",
       "      <td>5304</td>\n",
       "      <td>$37,247,226,132</td>\n",
       "      <td>5708274685</td>\n",
       "      <td>15.96%</td>\n",
       "    </tr>\n",
       "    <tr>\n",
       "      <td>3</td>\n",
       "      <td>4</td>\n",
       "      <td>Comedy</td>\n",
       "      <td>2322</td>\n",
       "      <td>$33,968,804,503</td>\n",
       "      <td>5233609995</td>\n",
       "      <td>14.56%</td>\n",
       "    </tr>\n",
       "    <tr>\n",
       "      <td>4</td>\n",
       "      <td>5</td>\n",
       "      <td>Thriller/Suspense</td>\n",
       "      <td>1088</td>\n",
       "      <td>$19,523,649,656</td>\n",
       "      <td>2848692471</td>\n",
       "      <td>8.37%</td>\n",
       "    </tr>\n",
       "    <tr>\n",
       "      <td>5</td>\n",
       "      <td>6</td>\n",
       "      <td>Horror</td>\n",
       "      <td>602</td>\n",
       "      <td>$11,746,158,344</td>\n",
       "      <td>1697784673</td>\n",
       "      <td>5.03%</td>\n",
       "    </tr>\n",
       "    <tr>\n",
       "      <td>6</td>\n",
       "      <td>7</td>\n",
       "      <td>Romantic Comedy</td>\n",
       "      <td>594</td>\n",
       "      <td>$9,918,998,969</td>\n",
       "      <td>1599171071</td>\n",
       "      <td>4.25%</td>\n",
       "    </tr>\n",
       "    <tr>\n",
       "      <td>7</td>\n",
       "      <td>8</td>\n",
       "      <td>Musical</td>\n",
       "      <td>183</td>\n",
       "      <td>$4,105,510,294</td>\n",
       "      <td>542119892</td>\n",
       "      <td>1.76%</td>\n",
       "    </tr>\n",
       "    <tr>\n",
       "      <td>8</td>\n",
       "      <td>9</td>\n",
       "      <td>Documentary</td>\n",
       "      <td>2320</td>\n",
       "      <td>$2,237,371,022</td>\n",
       "      <td>336012688</td>\n",
       "      <td>0.96%</td>\n",
       "    </tr>\n",
       "    <tr>\n",
       "      <td>9</td>\n",
       "      <td>10</td>\n",
       "      <td>Black Comedy</td>\n",
       "      <td>187</td>\n",
       "      <td>$1,662,663,471</td>\n",
       "      <td>231354541</td>\n",
       "      <td>0.71%</td>\n",
       "    </tr>\n",
       "    <tr>\n",
       "      <td>10</td>\n",
       "      <td>11</td>\n",
       "      <td>Western</td>\n",
       "      <td>81</td>\n",
       "      <td>$1,084,785,441</td>\n",
       "      <td>149931395</td>\n",
       "      <td>0.46%</td>\n",
       "    </tr>\n",
       "    <tr>\n",
       "      <td>11</td>\n",
       "      <td>12</td>\n",
       "      <td>Concert/Performance</td>\n",
       "      <td>74</td>\n",
       "      <td>$395,155,838</td>\n",
       "      <td>53881827</td>\n",
       "      <td>0.17%</td>\n",
       "    </tr>\n",
       "    <tr>\n",
       "      <td>12</td>\n",
       "      <td>13</td>\n",
       "      <td>Multiple Genres</td>\n",
       "      <td>42</td>\n",
       "      <td>$33,688,583</td>\n",
       "      <td>4071085</td>\n",
       "      <td>0.01%</td>\n",
       "    </tr>\n",
       "    <tr>\n",
       "      <td>13</td>\n",
       "      <td>14</td>\n",
       "      <td>Reality</td>\n",
       "      <td>4</td>\n",
       "      <td>$621,696</td>\n",
       "      <td>73810</td>\n",
       "      <td>0.00%</td>\n",
       "    </tr>\n",
       "  </tbody>\n",
       "</table>\n",
       "</div>"
      ],
      "text/plain": [
       "    Rank                Genre  Movies Total Box Office     Tickets   Share\n",
       "0      1            Adventure    1064  $63,774,679,468  9133100587  27.33%\n",
       "1      2               Action    1027  $47,447,371,271  6732490298  20.33%\n",
       "2      3                Drama    5304  $37,247,226,132  5708274685  15.96%\n",
       "3      4               Comedy    2322  $33,968,804,503  5233609995  14.56%\n",
       "4      5    Thriller/Suspense    1088  $19,523,649,656  2848692471   8.37%\n",
       "5      6               Horror     602  $11,746,158,344  1697784673   5.03%\n",
       "6      7      Romantic Comedy     594   $9,918,998,969  1599171071   4.25%\n",
       "7      8              Musical     183   $4,105,510,294   542119892   1.76%\n",
       "8      9          Documentary    2320   $2,237,371,022   336012688   0.96%\n",
       "9     10         Black Comedy     187   $1,662,663,471   231354541   0.71%\n",
       "10    11              Western      81   $1,084,785,441   149931395   0.46%\n",
       "11    12  Concert/Performance      74     $395,155,838    53881827   0.17%\n",
       "12    13      Multiple Genres      42      $33,688,583     4071085   0.01%\n",
       "13    14              Reality       4         $621,696       73810   0.00%"
      ]
     },
     "execution_count": 82,
     "metadata": {},
     "output_type": "execute_result"
    }
   ],
   "source": [
    "genres=pd.read_html(str(table))[0]\n",
    "genres"
   ]
  },
  {
   "cell_type": "code",
   "execution_count": 83,
   "metadata": {},
   "outputs": [],
   "source": [
    "genres['Total Box Office'] = genres['Total Box Office'].replace({'\\$': ''}, regex=True)\n",
    "genres['Share'] = genres['Share'].replace({'%': ''}, regex=True)\n",
    "genres['Total Box Office'] = genres['Total Box Office'].replace({',': ''}, regex=True)\n",
    "                                                               "
   ]
  },
  {
   "cell_type": "code",
   "execution_count": 84,
   "metadata": {},
   "outputs": [
    {
     "data": {
      "text/html": [
       "<div>\n",
       "<style scoped>\n",
       "    .dataframe tbody tr th:only-of-type {\n",
       "        vertical-align: middle;\n",
       "    }\n",
       "\n",
       "    .dataframe tbody tr th {\n",
       "        vertical-align: top;\n",
       "    }\n",
       "\n",
       "    .dataframe thead th {\n",
       "        text-align: right;\n",
       "    }\n",
       "</style>\n",
       "<table border=\"1\" class=\"dataframe\">\n",
       "  <thead>\n",
       "    <tr style=\"text-align: right;\">\n",
       "      <th></th>\n",
       "      <th>Rank</th>\n",
       "      <th>Genre</th>\n",
       "      <th>Movies</th>\n",
       "      <th>Total Box Office</th>\n",
       "      <th>Tickets</th>\n",
       "      <th>Share</th>\n",
       "    </tr>\n",
       "  </thead>\n",
       "  <tbody>\n",
       "    <tr>\n",
       "      <td>0</td>\n",
       "      <td>1</td>\n",
       "      <td>Adventure</td>\n",
       "      <td>1064</td>\n",
       "      <td>63774679468</td>\n",
       "      <td>9133100587</td>\n",
       "      <td>27.33</td>\n",
       "    </tr>\n",
       "    <tr>\n",
       "      <td>1</td>\n",
       "      <td>2</td>\n",
       "      <td>Action</td>\n",
       "      <td>1027</td>\n",
       "      <td>47447371271</td>\n",
       "      <td>6732490298</td>\n",
       "      <td>20.33</td>\n",
       "    </tr>\n",
       "    <tr>\n",
       "      <td>2</td>\n",
       "      <td>3</td>\n",
       "      <td>Drama</td>\n",
       "      <td>5304</td>\n",
       "      <td>37247226132</td>\n",
       "      <td>5708274685</td>\n",
       "      <td>15.96</td>\n",
       "    </tr>\n",
       "    <tr>\n",
       "      <td>3</td>\n",
       "      <td>4</td>\n",
       "      <td>Comedy</td>\n",
       "      <td>2322</td>\n",
       "      <td>33968804503</td>\n",
       "      <td>5233609995</td>\n",
       "      <td>14.56</td>\n",
       "    </tr>\n",
       "    <tr>\n",
       "      <td>4</td>\n",
       "      <td>5</td>\n",
       "      <td>Thriller/Suspense</td>\n",
       "      <td>1088</td>\n",
       "      <td>19523649656</td>\n",
       "      <td>2848692471</td>\n",
       "      <td>8.37</td>\n",
       "    </tr>\n",
       "    <tr>\n",
       "      <td>5</td>\n",
       "      <td>6</td>\n",
       "      <td>Horror</td>\n",
       "      <td>602</td>\n",
       "      <td>11746158344</td>\n",
       "      <td>1697784673</td>\n",
       "      <td>5.03</td>\n",
       "    </tr>\n",
       "    <tr>\n",
       "      <td>6</td>\n",
       "      <td>7</td>\n",
       "      <td>Romantic Comedy</td>\n",
       "      <td>594</td>\n",
       "      <td>9918998969</td>\n",
       "      <td>1599171071</td>\n",
       "      <td>4.25</td>\n",
       "    </tr>\n",
       "    <tr>\n",
       "      <td>7</td>\n",
       "      <td>8</td>\n",
       "      <td>Musical</td>\n",
       "      <td>183</td>\n",
       "      <td>4105510294</td>\n",
       "      <td>542119892</td>\n",
       "      <td>1.76</td>\n",
       "    </tr>\n",
       "    <tr>\n",
       "      <td>8</td>\n",
       "      <td>9</td>\n",
       "      <td>Documentary</td>\n",
       "      <td>2320</td>\n",
       "      <td>2237371022</td>\n",
       "      <td>336012688</td>\n",
       "      <td>0.96</td>\n",
       "    </tr>\n",
       "    <tr>\n",
       "      <td>9</td>\n",
       "      <td>10</td>\n",
       "      <td>Black Comedy</td>\n",
       "      <td>187</td>\n",
       "      <td>1662663471</td>\n",
       "      <td>231354541</td>\n",
       "      <td>0.71</td>\n",
       "    </tr>\n",
       "    <tr>\n",
       "      <td>10</td>\n",
       "      <td>11</td>\n",
       "      <td>Western</td>\n",
       "      <td>81</td>\n",
       "      <td>1084785441</td>\n",
       "      <td>149931395</td>\n",
       "      <td>0.46</td>\n",
       "    </tr>\n",
       "    <tr>\n",
       "      <td>11</td>\n",
       "      <td>12</td>\n",
       "      <td>Concert/Performance</td>\n",
       "      <td>74</td>\n",
       "      <td>395155838</td>\n",
       "      <td>53881827</td>\n",
       "      <td>0.17</td>\n",
       "    </tr>\n",
       "    <tr>\n",
       "      <td>12</td>\n",
       "      <td>13</td>\n",
       "      <td>Multiple Genres</td>\n",
       "      <td>42</td>\n",
       "      <td>33688583</td>\n",
       "      <td>4071085</td>\n",
       "      <td>0.01</td>\n",
       "    </tr>\n",
       "    <tr>\n",
       "      <td>13</td>\n",
       "      <td>14</td>\n",
       "      <td>Reality</td>\n",
       "      <td>4</td>\n",
       "      <td>621696</td>\n",
       "      <td>73810</td>\n",
       "      <td>0.00</td>\n",
       "    </tr>\n",
       "  </tbody>\n",
       "</table>\n",
       "</div>"
      ],
      "text/plain": [
       "    Rank                Genre  Movies Total Box Office     Tickets  Share\n",
       "0      1            Adventure    1064      63774679468  9133100587  27.33\n",
       "1      2               Action    1027      47447371271  6732490298  20.33\n",
       "2      3                Drama    5304      37247226132  5708274685  15.96\n",
       "3      4               Comedy    2322      33968804503  5233609995  14.56\n",
       "4      5    Thriller/Suspense    1088      19523649656  2848692471   8.37\n",
       "5      6               Horror     602      11746158344  1697784673   5.03\n",
       "6      7      Romantic Comedy     594       9918998969  1599171071   4.25\n",
       "7      8              Musical     183       4105510294   542119892   1.76\n",
       "8      9          Documentary    2320       2237371022   336012688   0.96\n",
       "9     10         Black Comedy     187       1662663471   231354541   0.71\n",
       "10    11              Western      81       1084785441   149931395   0.46\n",
       "11    12  Concert/Performance      74        395155838    53881827   0.17\n",
       "12    13      Multiple Genres      42         33688583     4071085   0.01\n",
       "13    14              Reality       4           621696       73810   0.00"
      ]
     },
     "execution_count": 84,
     "metadata": {},
     "output_type": "execute_result"
    }
   ],
   "source": [
    "genres"
   ]
  },
  {
   "cell_type": "code",
   "execution_count": 88,
   "metadata": {},
   "outputs": [
    {
     "data": {
      "text/plain": [
       "63774679468"
      ]
     },
     "execution_count": 88,
     "metadata": {},
     "output_type": "execute_result"
    }
   ],
   "source": [
    "# df_genre_sub['MarketShare'] = df_genre_sub['MarketShare'].str.replace('%', '')\n",
    "# genres['Total Box Office'] = pd.to_numeric(genres['Total Box Office'], errors='coerce')\n",
    "# genres['Movies'] = pd.to_numeric(genres['Movies'], errors='coerce')\n",
    "#genres.astype({'Total Box Office': 'int32'}).dtypes\n",
    "\n",
    "genres['Total Box Office'] = genres['Total Box Office'].astype(int)\n",
    "genres['Total Box Office'][0]\n"
   ]
  },
  {
   "cell_type": "code",
   "execution_count": 89,
   "metadata": {},
   "outputs": [
    {
     "data": {
      "text/plain": [
       "numpy.int64"
      ]
     },
     "execution_count": 89,
     "metadata": {},
     "output_type": "execute_result"
    }
   ],
   "source": [
    "type(genres['Total Box Office'][0])"
   ]
  },
  {
   "cell_type": "code",
   "execution_count": 91,
   "metadata": {},
   "outputs": [
    {
     "data": {
      "text/plain": [
       "0     59938608\n",
       "1     46199972\n",
       "2      7022478\n",
       "3     14629114\n",
       "4     17944530\n",
       "5     19511890\n",
       "6     16698651\n",
       "7     22434482\n",
       "8       964384\n",
       "9      8891248\n",
       "10    13392412\n",
       "11     5339943\n",
       "12      802109\n",
       "13      155424\n",
       "Name: Money Per Movie, dtype: int64"
      ]
     },
     "execution_count": 91,
     "metadata": {},
     "output_type": "execute_result"
    }
   ],
   "source": [
    "genres['Money Per Movie']= genres['Total Box Office']//genres['Movies']\n",
    "genres['Money Per Movie']"
   ]
  },
  {
   "cell_type": "code",
   "execution_count": 112,
   "metadata": {},
   "outputs": [
    {
     "data": {
      "text/plain": [
       "Text(0.5, 1.0, 'Cost Per Movie')"
      ]
     },
     "execution_count": 112,
     "metadata": {},
     "output_type": "execute_result"
    },
    {
     "data": {
      "image/png": "[encoded data removed]",
      "text/plain": [
       "<Figure size 432x288 with 1 Axes>"
      ]
     },
     "metadata": {
      "needs_background": "light"
     },
     "output_type": "display_data"
    }
   ],
   "source": [
    "import matplotlib.pyplot as plt\n",
    "%matplotlib inline\n",
    "import seaborn as sns\n",
    "g=sns.barplot(x='Genre',y='Money Per Movie',data=genres)\n",
    "g.set_xticklabels(g.get_xticklabels(),rotation=70)\n",
    "plt.title('Cost Per Movie')"
   ]
  },
  {
   "cell_type": "code",
   "execution_count": 17,
   "metadata": {},
   "outputs": [],
   "source": [
    "# convert dframe to tuple\n",
    "tuple_genres=list(genres.itertuples(index=False,name=None))\n"
   ]
  },
  {
   "cell_type": "code",
   "execution_count": 18,
   "metadata": {},
   "outputs": [
    {
     "name": "stdout",
     "output_type": "stream",
     "text": [
      "admin\n",
      "<mysql.connector.connection_cext.CMySQLConnection object at 0x114b81d90>\n"
     ]
    }
   ],
   "source": [
    "import mysql.connector\n",
    "from mysql.connector import errorcode\n",
    "import config\n",
    "cnx = mysql.connector.connect(\n",
    "    host = config.my_cred['host'],\n",
    "    user = config.my_cred['user'],\n",
    "    passwd = config.my_cred['passwd']\n",
    ")\n",
    "print(config.my_cred['user'])\n",
    "print(cnx)"
   ]
  },
  {
   "cell_type": "code",
   "execution_count": 19,
   "metadata": {},
   "outputs": [],
   "source": [
    "cursor = cnx.cursor()"
   ]
  },
  {
   "cell_type": "code",
   "execution_count": 20,
   "metadata": {},
   "outputs": [],
   "source": [
    "db_name = 'movies'"
   ]
  },
  {
   "cell_type": "code",
   "execution_count": 21,
   "metadata": {},
   "outputs": [],
   "source": [
    "def create_database(cursor, database):\n",
    "    try:\n",
    "        cursor.execute(\n",
    "            \"CREATE DATABASE {} DEFAULT CHARACTER SET 'utf8'\".format(database))\n",
    "    except mysql.connector.Error as err:\n",
    "        print(\"Failed creating database: {}\".format(err))\n",
    "        exit(1)"
   ]
  },
  {
   "cell_type": "code",
   "execution_count": 22,
   "metadata": {},
   "outputs": [],
   "source": [
    "try:\n",
    "    cursor.execute(\"USE {}\".format(db_name))\n",
    "\n",
    "#if the previous line fails because there isn't a db by that name run this line\n",
    "\n",
    "except mysql.connector.Error as err:\n",
    "    print(\"Database {} does not exists.\".format(db_name))\n",
    "    if err.errno == errorcode.ER_BAD_DB_ERROR:\n",
    "        create_database(cursor, db_name)\n",
    "        print(\"Database {} created successfully.\".format(db_name))\n",
    "        cnx.database = db_name\n",
    "    else:\n",
    "        print(err)\n",
    "        exit(1)"
   ]
  },
  {
   "cell_type": "code",
   "execution_count": 23,
   "metadata": {},
   "outputs": [],
   "source": [
    "DB_NAME = 'movies'\n",
    "\n",
    "TABLES = {}\n",
    "TABLES['genre'] = (\n",
    "    \"CREATE TABLE genre (\"\n",
    "    \"  R_id varchar(20) NOT NULL,\"\n",
    "    \"  Genre varchar(190) NOT NULL,\"\n",
    "    \"  Movies int(190) NOT NULL,\"\n",
    "    \"  Total_Box_Office varchar(50) NOT NULL,\"\n",
    "    \"  Tickets int(50) NOT NULL,\"\n",
    "    \"  Share double(10,2) NOT NULL,\"\n",
    "    \"  PRIMARY KEY (R_id)\"\n",
    "    \") ENGINE=InnoDB\")\n",
    "\n"
   ]
  },
  {
   "cell_type": "code",
   "execution_count": 24,
   "metadata": {},
   "outputs": [
    {
     "name": "stdout",
     "output_type": "stream",
     "text": [
      "Creating table genre: already exists.\n"
     ]
    }
   ],
   "source": [
    "try:\n",
    "    cursor.execute(\"USE {}\".format(DB_NAME))\n",
    "\n",
    "#if the previous line fails because there isn't a db by that name run this line\n",
    "\n",
    "except mysql.connector.Error as err:\n",
    "    print(\"Database {} does not exists.\".format(DB_NAME))\n",
    "    if err.errno == errorcode.ER_BAD_DB_ERROR:\n",
    "        create_database(cursor, DB_NAME)\n",
    "        print(\"Database {} created successfully.\".format(DB_NAME))\n",
    "        cnx.database = DB_NAME\n",
    "    else:\n",
    "        print(err)\n",
    "        exit(1)\n",
    "        \n",
    "for table_name in TABLES:\n",
    "    table_description = TABLES[table_name]\n",
    "    try:\n",
    "        print(\"Creating table {}: \".format(table_name), end='')\n",
    "        cursor.execute(table_description)\n",
    "    except mysql.connector.Error as err:\n",
    "        if err.errno == errorcode.ER_TABLE_EXISTS_ERROR:\n",
    "            print(\"already exists.\")\n",
    "        else:\n",
    "            print(err.msg)\n",
    "    else:\n",
    "        print(\"OK\")\n",
    "\n",
    "# cursor.close()\n",
    "# cnx.close()"
   ]
  },
  {
   "cell_type": "code",
   "execution_count": 25,
   "metadata": {},
   "outputs": [
    {
     "name": "stdout",
     "output_type": "stream",
     "text": [
      "<mysql.connector.connection_cext.CMySQLConnection object at 0x117a75390>\n"
     ]
    }
   ],
   "source": [
    "import mysql.connector\n",
    "from mysql.connector import errorcode\n",
    "import config\n",
    "cnx = mysql.connector.connect(\n",
    "    host = config.my_cred['host'],\n",
    "    user = config.my_cred['user'],\n",
    "    passwd = config.my_cred['passwd']\n",
    ")\n",
    "cnx.database = 'movies'\n",
    "print(cnx)"
   ]
  },
  {
   "cell_type": "code",
   "execution_count": 26,
   "metadata": {},
   "outputs": [],
   "source": [
    "# cursor.close()\n",
    "# cnx.close()"
   ]
  },
  {
   "cell_type": "code",
   "execution_count": 27,
   "metadata": {},
   "outputs": [
    {
     "name": "stdout",
     "output_type": "stream",
     "text": [
      "<mysql.connector.connection_cext.CMySQLConnection object at 0x117a75cd0>\n"
     ]
    }
   ],
   "source": [
    "import mysql.connector\n",
    "from mysql.connector import errorcode\n",
    "import config\n",
    "cnx = mysql.connector.connect(\n",
    "    host = config.my_cred['host'],\n",
    "    user = config.my_cred['user'],\n",
    "    passwd = config.my_cred['passwd']\n",
    ")\n",
    "cnx.database = 'movies'\n",
    "print(cnx)"
   ]
  },
  {
   "cell_type": "code",
   "execution_count": 28,
   "metadata": {},
   "outputs": [],
   "source": [
    "cursor = cnx.cursor()"
   ]
  },
  {
   "cell_type": "code",
   "execution_count": 29,
   "metadata": {},
   "outputs": [
    {
     "ename": "IntegrityError",
     "evalue": "1062 (23000): Duplicate entry '1' for key 'PRIMARY'",
     "output_type": "error",
     "traceback": [
      "\u001b[0;31m---------------------------------------------------------------------------\u001b[0m",
      "\u001b[0;31mMySQLInterfaceError\u001b[0m                       Traceback (most recent call last)",
      "\u001b[0;32m/opt/anaconda3/lib/python3.7/site-packages/mysql/connector/connection_cext.py\u001b[0m in \u001b[0;36mcmd_query\u001b[0;34m(self, query, raw, buffered, raw_as_string)\u001b[0m\n\u001b[1;32m    488\u001b[0m                                \u001b[0mraw\u001b[0m\u001b[0;34m=\u001b[0m\u001b[0mraw\u001b[0m\u001b[0;34m,\u001b[0m \u001b[0mbuffered\u001b[0m\u001b[0;34m=\u001b[0m\u001b[0mbuffered\u001b[0m\u001b[0;34m,\u001b[0m\u001b[0;34m\u001b[0m\u001b[0;34m\u001b[0m\u001b[0m\n\u001b[0;32m--> 489\u001b[0;31m                                raw_as_string=raw_as_string)\n\u001b[0m\u001b[1;32m    490\u001b[0m         \u001b[0;32mexcept\u001b[0m \u001b[0mMySQLInterfaceError\u001b[0m \u001b[0;32mas\u001b[0m \u001b[0mexc\u001b[0m\u001b[0;34m:\u001b[0m\u001b[0;34m\u001b[0m\u001b[0;34m\u001b[0m\u001b[0m\n",
      "\u001b[0;31mMySQLInterfaceError\u001b[0m: Duplicate entry '1' for key 'PRIMARY'",
      "\nDuring handling of the above exception, another exception occurred:\n",
      "\u001b[0;31mIntegrityError\u001b[0m                            Traceback (most recent call last)",
      "\u001b[0;32m<ipython-input-29-91ab2aa4c89c>\u001b[0m in \u001b[0;36m<module>\u001b[0;34m\u001b[0m\n\u001b[1;32m      2\u001b[0m       \"\"\"INSERT INTO genre(R_id, Genre, Movies, Total_Box_Office, Tickets, Share)\n\u001b[1;32m      3\u001b[0m       VALUES (%s, %s, %s, %s, %s, %s)\"\"\",\n\u001b[0;32m----> 4\u001b[0;31m       tuple_genres)\n\u001b[0m\u001b[1;32m      5\u001b[0m \u001b[0mcnx\u001b[0m\u001b[0;34m.\u001b[0m\u001b[0mcommit\u001b[0m\u001b[0;34m(\u001b[0m\u001b[0;34m)\u001b[0m\u001b[0;34m\u001b[0m\u001b[0;34m\u001b[0m\u001b[0m\n",
      "\u001b[0;32m/opt/anaconda3/lib/python3.7/site-packages/mysql/connector/cursor_cext.py\u001b[0m in \u001b[0;36mexecutemany\u001b[0;34m(self, operation, seq_params)\u001b[0m\n\u001b[1;32m    350\u001b[0m             \u001b[0mstmt\u001b[0m \u001b[0;34m=\u001b[0m \u001b[0mself\u001b[0m\u001b[0;34m.\u001b[0m\u001b[0m_batch_insert\u001b[0m\u001b[0;34m(\u001b[0m\u001b[0moperation\u001b[0m\u001b[0;34m,\u001b[0m \u001b[0mseq_params\u001b[0m\u001b[0;34m)\u001b[0m\u001b[0;34m\u001b[0m\u001b[0;34m\u001b[0m\u001b[0m\n\u001b[1;32m    351\u001b[0m             \u001b[0;32mif\u001b[0m \u001b[0mstmt\u001b[0m \u001b[0;32mis\u001b[0m \u001b[0;32mnot\u001b[0m \u001b[0;32mNone\u001b[0m\u001b[0;34m:\u001b[0m\u001b[0;34m\u001b[0m\u001b[0;34m\u001b[0m\u001b[0m\n\u001b[0;32m--> 352\u001b[0;31m                 \u001b[0;32mreturn\u001b[0m \u001b[0mself\u001b[0m\u001b[0;34m.\u001b[0m\u001b[0mexecute\u001b[0m\u001b[0;34m(\u001b[0m\u001b[0mstmt\u001b[0m\u001b[0;34m)\u001b[0m\u001b[0;34m\u001b[0m\u001b[0;34m\u001b[0m\u001b[0m\n\u001b[0m\u001b[1;32m    353\u001b[0m \u001b[0;34m\u001b[0m\u001b[0m\n\u001b[1;32m    354\u001b[0m         \u001b[0mrowcnt\u001b[0m \u001b[0;34m=\u001b[0m \u001b[0;36m0\u001b[0m\u001b[0;34m\u001b[0m\u001b[0;34m\u001b[0m\u001b[0m\n",
      "\u001b[0;32m/opt/anaconda3/lib/python3.7/site-packages/mysql/connector/cursor_cext.py\u001b[0m in \u001b[0;36mexecute\u001b[0;34m(self, operation, params, multi)\u001b[0m\n\u001b[1;32m    264\u001b[0m             result = self._cnx.cmd_query(stmt, raw=self._raw,\n\u001b[1;32m    265\u001b[0m                                          \u001b[0mbuffered\u001b[0m\u001b[0;34m=\u001b[0m\u001b[0mself\u001b[0m\u001b[0;34m.\u001b[0m\u001b[0m_buffered\u001b[0m\u001b[0;34m,\u001b[0m\u001b[0;34m\u001b[0m\u001b[0;34m\u001b[0m\u001b[0m\n\u001b[0;32m--> 266\u001b[0;31m                                          raw_as_string=self._raw_as_string)\n\u001b[0m\u001b[1;32m    267\u001b[0m         \u001b[0;32mexcept\u001b[0m \u001b[0mMySQLInterfaceError\u001b[0m \u001b[0;32mas\u001b[0m \u001b[0mexc\u001b[0m\u001b[0;34m:\u001b[0m\u001b[0;34m\u001b[0m\u001b[0;34m\u001b[0m\u001b[0m\n\u001b[1;32m    268\u001b[0m             raise errors.get_mysql_exception(msg=exc.msg, errno=exc.errno,\n",
      "\u001b[0;32m/opt/anaconda3/lib/python3.7/site-packages/mysql/connector/connection_cext.py\u001b[0m in \u001b[0;36mcmd_query\u001b[0;34m(self, query, raw, buffered, raw_as_string)\u001b[0m\n\u001b[1;32m    490\u001b[0m         \u001b[0;32mexcept\u001b[0m \u001b[0mMySQLInterfaceError\u001b[0m \u001b[0;32mas\u001b[0m \u001b[0mexc\u001b[0m\u001b[0;34m:\u001b[0m\u001b[0;34m\u001b[0m\u001b[0;34m\u001b[0m\u001b[0m\n\u001b[1;32m    491\u001b[0m             raise errors.get_mysql_exception(exc.errno, msg=exc.msg,\n\u001b[0;32m--> 492\u001b[0;31m                                              sqlstate=exc.sqlstate)\n\u001b[0m\u001b[1;32m    493\u001b[0m         \u001b[0;32mexcept\u001b[0m \u001b[0mAttributeError\u001b[0m\u001b[0;34m:\u001b[0m\u001b[0;34m\u001b[0m\u001b[0;34m\u001b[0m\u001b[0m\n\u001b[1;32m    494\u001b[0m             \u001b[0;32mif\u001b[0m \u001b[0mself\u001b[0m\u001b[0;34m.\u001b[0m\u001b[0m_unix_socket\u001b[0m\u001b[0;34m:\u001b[0m\u001b[0;34m\u001b[0m\u001b[0;34m\u001b[0m\u001b[0m\n",
      "\u001b[0;31mIntegrityError\u001b[0m: 1062 (23000): Duplicate entry '1' for key 'PRIMARY'"
     ]
    }
   ],
   "source": [
    "cursor.executemany(\n",
    "      \"\"\"INSERT INTO genre(R_id, Genre, Movies, Total_Box_Office, Tickets, Share)\n",
    "      VALUES (%s, %s, %s, %s, %s, %s)\"\"\",\n",
    "      tuple_genres)\n",
    "cnx.commit()"
   ]
  },
  {
   "cell_type": "code",
   "execution_count": 30,
   "metadata": {},
   "outputs": [],
   "source": [
    "# individual genre"
   ]
  },
  {
   "cell_type": "code",
   "execution_count": 31,
   "metadata": {},
   "outputs": [],
   "source": [
    "list_gener = []\n",
    "\n",
    "for genre in genres['Genre']:\n",
    "    genre_url='https://www.the-numbers.com/market/genre/'+genre.replace('/','-or-').replace(' ','-')\n",
    "    res=requests.get(genre_url)\n",
    "    soup=BeautifulSoup(res.text,'html.parser')\n",
    "    tables=soup.find_all('table')\n",
    "    df2=pd.read_html(str(tables[1]))[0]\n",
    "    df2['Genre']=genre\n",
    "    list_gener.append(df2)\n",
    "for df in list_gener:\n",
    "        df['Id'] = df['Year'].apply(str).add(df['Genre'])"
   ]
  },
  {
   "cell_type": "code",
   "execution_count": 32,
   "metadata": {},
   "outputs": [
    {
     "data": {
      "text/html": [
       "<div>\n",
       "<style scoped>\n",
       "    .dataframe tbody tr th:only-of-type {\n",
       "        vertical-align: middle;\n",
       "    }\n",
       "\n",
       "    .dataframe tbody tr th {\n",
       "        vertical-align: top;\n",
       "    }\n",
       "\n",
       "    .dataframe thead th {\n",
       "        text-align: right;\n",
       "    }\n",
       "</style>\n",
       "<table border=\"1\" class=\"dataframe\">\n",
       "  <thead>\n",
       "    <tr style=\"text-align: right;\">\n",
       "      <th></th>\n",
       "      <th>Year</th>\n",
       "      <th>Movies inRelease</th>\n",
       "      <th>MarketShare</th>\n",
       "      <th>Gross</th>\n",
       "      <th>Tickets Sold</th>\n",
       "      <th>Inflation-AdjustedGross</th>\n",
       "      <th>Top-Grossing Movie</th>\n",
       "      <th>Gross that Year</th>\n",
       "      <th>Genre</th>\n",
       "      <th>Id</th>\n",
       "    </tr>\n",
       "  </thead>\n",
       "  <tbody>\n",
       "    <tr>\n",
       "      <td>0</td>\n",
       "      <td>1995</td>\n",
       "      <td>29</td>\n",
       "      <td>14.52%</td>\n",
       "      <td>$771,507,571</td>\n",
       "      <td>177358047</td>\n",
       "      <td>$1,615,731,808</td>\n",
       "      <td>Toy Story</td>\n",
       "      <td>$150,148,222</td>\n",
       "      <td>Adventure</td>\n",
       "      <td>1995Adventure</td>\n",
       "    </tr>\n",
       "    <tr>\n",
       "      <td>1</td>\n",
       "      <td>1996</td>\n",
       "      <td>34</td>\n",
       "      <td>22.37%</td>\n",
       "      <td>$1,290,490,033</td>\n",
       "      <td>291966054</td>\n",
       "      <td>$2,659,810,752</td>\n",
       "      <td>Independence Day</td>\n",
       "      <td>$306,169,255</td>\n",
       "      <td>Adventure</td>\n",
       "      <td>1996Adventure</td>\n",
       "    </tr>\n",
       "    <tr>\n",
       "      <td>2</td>\n",
       "      <td>1997</td>\n",
       "      <td>23</td>\n",
       "      <td>13.87%</td>\n",
       "      <td>$881,902,843</td>\n",
       "      <td>192135684</td>\n",
       "      <td>$1,750,356,081</td>\n",
       "      <td>Men in Black</td>\n",
       "      <td>$250,650,052</td>\n",
       "      <td>Adventure</td>\n",
       "      <td>1997Adventure</td>\n",
       "    </tr>\n",
       "    <tr>\n",
       "      <td>3</td>\n",
       "      <td>1998</td>\n",
       "      <td>29</td>\n",
       "      <td>23.84%</td>\n",
       "      <td>$1,614,467,732</td>\n",
       "      <td>344236174</td>\n",
       "      <td>$3,135,991,545</td>\n",
       "      <td>Armageddon</td>\n",
       "      <td>$201,578,182</td>\n",
       "      <td>Adventure</td>\n",
       "      <td>1998Adventure</td>\n",
       "    </tr>\n",
       "    <tr>\n",
       "      <td>4</td>\n",
       "      <td>1999</td>\n",
       "      <td>27</td>\n",
       "      <td>21.97%</td>\n",
       "      <td>$1,612,432,107</td>\n",
       "      <td>317407880</td>\n",
       "      <td>$2,891,585,787</td>\n",
       "      <td>Star Wars Ep. I: The Phanto…</td>\n",
       "      <td>$430,443,350</td>\n",
       "      <td>Adventure</td>\n",
       "      <td>1999Adventure</td>\n",
       "    </tr>\n",
       "    <tr>\n",
       "      <td>...</td>\n",
       "      <td>...</td>\n",
       "      <td>...</td>\n",
       "      <td>...</td>\n",
       "      <td>...</td>\n",
       "      <td>...</td>\n",
       "      <td>...</td>\n",
       "      <td>...</td>\n",
       "      <td>...</td>\n",
       "      <td>...</td>\n",
       "      <td>...</td>\n",
       "    </tr>\n",
       "    <tr>\n",
       "      <td>16</td>\n",
       "      <td>2017</td>\n",
       "      <td>5</td>\n",
       "      <td>0.04%</td>\n",
       "      <td>$4,614,134</td>\n",
       "      <td>514394</td>\n",
       "      <td>$4,686,129</td>\n",
       "      <td>2017 Oscar Shorts</td>\n",
       "      <td>$2,835,355</td>\n",
       "      <td>Multiple Genres</td>\n",
       "      <td>2017Multiple Genres</td>\n",
       "    </tr>\n",
       "    <tr>\n",
       "      <td>17</td>\n",
       "      <td>2018</td>\n",
       "      <td>3</td>\n",
       "      <td>0.04%</td>\n",
       "      <td>$4,787,450</td>\n",
       "      <td>525514</td>\n",
       "      <td>$4,787,433</td>\n",
       "      <td>2018 Oscar Shorts</td>\n",
       "      <td>$3,508,777</td>\n",
       "      <td>Multiple Genres</td>\n",
       "      <td>2018Multiple Genres</td>\n",
       "    </tr>\n",
       "    <tr>\n",
       "      <td>18</td>\n",
       "      <td>2019</td>\n",
       "      <td>2</td>\n",
       "      <td>0.03%</td>\n",
       "      <td>$3,545,060</td>\n",
       "      <td>389139</td>\n",
       "      <td>$3,545,056</td>\n",
       "      <td>2019 Oscar Shorts</td>\n",
       "      <td>$3,531,093</td>\n",
       "      <td>Multiple Genres</td>\n",
       "      <td>2019Multiple Genres</td>\n",
       "    </tr>\n",
       "    <tr>\n",
       "      <td>0</td>\n",
       "      <td>2014</td>\n",
       "      <td>1</td>\n",
       "      <td>0.00%</td>\n",
       "      <td>$16,826</td>\n",
       "      <td>2059</td>\n",
       "      <td>$18,757</td>\n",
       "      <td>The Principle</td>\n",
       "      <td>$16,826</td>\n",
       "      <td>Reality</td>\n",
       "      <td>2014Reality</td>\n",
       "    </tr>\n",
       "    <tr>\n",
       "      <td>1</td>\n",
       "      <td>2015</td>\n",
       "      <td>3</td>\n",
       "      <td>0.01%</td>\n",
       "      <td>$604,870</td>\n",
       "      <td>71751</td>\n",
       "      <td>$653,652</td>\n",
       "      <td>Benpao Ba! Xiongdi</td>\n",
       "      <td>$309,297</td>\n",
       "      <td>Reality</td>\n",
       "      <td>2015Reality</td>\n",
       "    </tr>\n",
       "  </tbody>\n",
       "</table>\n",
       "<p>322 rows × 10 columns</p>\n",
       "</div>"
      ],
      "text/plain": [
       "    Year  Movies inRelease MarketShare           Gross  Tickets Sold  \\\n",
       "0   1995                29      14.52%    $771,507,571     177358047   \n",
       "1   1996                34      22.37%  $1,290,490,033     291966054   \n",
       "2   1997                23      13.87%    $881,902,843     192135684   \n",
       "3   1998                29      23.84%  $1,614,467,732     344236174   \n",
       "4   1999                27      21.97%  $1,612,432,107     317407880   \n",
       "..   ...               ...         ...             ...           ...   \n",
       "16  2017                 5       0.04%      $4,614,134        514394   \n",
       "17  2018                 3       0.04%      $4,787,450        525514   \n",
       "18  2019                 2       0.03%      $3,545,060        389139   \n",
       "0   2014                 1       0.00%         $16,826          2059   \n",
       "1   2015                 3       0.01%        $604,870         71751   \n",
       "\n",
       "   Inflation-AdjustedGross            Top-Grossing Movie Gross that Year  \\\n",
       "0           $1,615,731,808                     Toy Story    $150,148,222   \n",
       "1           $2,659,810,752              Independence Day    $306,169,255   \n",
       "2           $1,750,356,081                  Men in Black    $250,650,052   \n",
       "3           $3,135,991,545                    Armageddon    $201,578,182   \n",
       "4           $2,891,585,787  Star Wars Ep. I: The Phanto…    $430,443,350   \n",
       "..                     ...                           ...             ...   \n",
       "16              $4,686,129             2017 Oscar Shorts      $2,835,355   \n",
       "17              $4,787,433             2018 Oscar Shorts      $3,508,777   \n",
       "18              $3,545,056             2019 Oscar Shorts      $3,531,093   \n",
       "0                  $18,757                 The Principle         $16,826   \n",
       "1                 $653,652            Benpao Ba! Xiongdi        $309,297   \n",
       "\n",
       "              Genre                   Id  \n",
       "0         Adventure        1995Adventure  \n",
       "1         Adventure        1996Adventure  \n",
       "2         Adventure        1997Adventure  \n",
       "3         Adventure        1998Adventure  \n",
       "4         Adventure        1999Adventure  \n",
       "..              ...                  ...  \n",
       "16  Multiple Genres  2017Multiple Genres  \n",
       "17  Multiple Genres  2018Multiple Genres  \n",
       "18  Multiple Genres  2019Multiple Genres  \n",
       "0           Reality          2014Reality  \n",
       "1           Reality          2015Reality  \n",
       "\n",
       "[322 rows x 10 columns]"
      ]
     },
     "execution_count": 32,
     "metadata": {},
     "output_type": "execute_result"
    }
   ],
   "source": [
    "df_genre=pd.concat(list_gener)\n",
    "df_genre"
   ]
  },
  {
   "cell_type": "code",
   "execution_count": 33,
   "metadata": {},
   "outputs": [],
   "source": [
    "df_genre_sub = df_genre[['Year','Genre','MarketShare']]"
   ]
  },
  {
   "cell_type": "code",
   "execution_count": 34,
   "metadata": {
    "scrolled": true
   },
   "outputs": [
    {
     "name": "stderr",
     "output_type": "stream",
     "text": [
      "/opt/anaconda3/lib/python3.7/site-packages/ipykernel_launcher.py:1: SettingWithCopyWarning: \n",
      "A value is trying to be set on a copy of a slice from a DataFrame.\n",
      "Try using .loc[row_indexer,col_indexer] = value instead\n",
      "\n",
      "See the caveats in the documentation: http://pandas.pydata.org/pandas-docs/stable/user_guide/indexing.html#returning-a-view-versus-a-copy\n",
      "  \"\"\"Entry point for launching an IPython kernel.\n",
      "/opt/anaconda3/lib/python3.7/site-packages/ipykernel_launcher.py:2: SettingWithCopyWarning: \n",
      "A value is trying to be set on a copy of a slice from a DataFrame.\n",
      "Try using .loc[row_indexer,col_indexer] = value instead\n",
      "\n",
      "See the caveats in the documentation: http://pandas.pydata.org/pandas-docs/stable/user_guide/indexing.html#returning-a-view-versus-a-copy\n",
      "  \n"
     ]
    }
   ],
   "source": [
    "df_genre_sub['MarketShare'] = df_genre_sub['MarketShare'].str.replace('%', '')\n",
    "df_genre_sub['MarketShare'] = pd.to_numeric(df_genre_sub['MarketShare'], errors='coerce')"
   ]
  },
  {
   "cell_type": "code",
   "execution_count": 35,
   "metadata": {},
   "outputs": [
    {
     "name": "stderr",
     "output_type": "stream",
     "text": [
      "/opt/anaconda3/lib/python3.7/site-packages/ipykernel_launcher.py:1: SettingWithCopyWarning: \n",
      "A value is trying to be set on a copy of a slice from a DataFrame.\n",
      "Try using .loc[row_indexer,col_indexer] = value instead\n",
      "\n",
      "See the caveats in the documentation: http://pandas.pydata.org/pandas-docs/stable/user_guide/indexing.html#returning-a-view-versus-a-copy\n",
      "  \"\"\"Entry point for launching an IPython kernel.\n"
     ]
    }
   ],
   "source": [
    "df_genre_sub['MarketShare']=df_genre_sub['MarketShare']/100"
   ]
  },
  {
   "cell_type": "code",
   "execution_count": 36,
   "metadata": {},
   "outputs": [
    {
     "data": {
      "text/html": [
       "<div>\n",
       "<style scoped>\n",
       "    .dataframe tbody tr th:only-of-type {\n",
       "        vertical-align: middle;\n",
       "    }\n",
       "\n",
       "    .dataframe tbody tr th {\n",
       "        vertical-align: top;\n",
       "    }\n",
       "\n",
       "    .dataframe thead th {\n",
       "        text-align: right;\n",
       "    }\n",
       "</style>\n",
       "<table border=\"1\" class=\"dataframe\">\n",
       "  <thead>\n",
       "    <tr style=\"text-align: right;\">\n",
       "      <th></th>\n",
       "      <th>Year</th>\n",
       "      <th>Genre</th>\n",
       "      <th>MarketShare</th>\n",
       "    </tr>\n",
       "  </thead>\n",
       "  <tbody>\n",
       "    <tr>\n",
       "      <td>0</td>\n",
       "      <td>1995</td>\n",
       "      <td>Adventure</td>\n",
       "      <td>0.1452</td>\n",
       "    </tr>\n",
       "    <tr>\n",
       "      <td>1</td>\n",
       "      <td>1996</td>\n",
       "      <td>Adventure</td>\n",
       "      <td>0.2237</td>\n",
       "    </tr>\n",
       "    <tr>\n",
       "      <td>2</td>\n",
       "      <td>1997</td>\n",
       "      <td>Adventure</td>\n",
       "      <td>0.1387</td>\n",
       "    </tr>\n",
       "    <tr>\n",
       "      <td>3</td>\n",
       "      <td>1998</td>\n",
       "      <td>Adventure</td>\n",
       "      <td>0.2384</td>\n",
       "    </tr>\n",
       "    <tr>\n",
       "      <td>4</td>\n",
       "      <td>1999</td>\n",
       "      <td>Adventure</td>\n",
       "      <td>0.2197</td>\n",
       "    </tr>\n",
       "    <tr>\n",
       "      <td>...</td>\n",
       "      <td>...</td>\n",
       "      <td>...</td>\n",
       "      <td>...</td>\n",
       "    </tr>\n",
       "    <tr>\n",
       "      <td>16</td>\n",
       "      <td>2017</td>\n",
       "      <td>Multiple Genres</td>\n",
       "      <td>0.0004</td>\n",
       "    </tr>\n",
       "    <tr>\n",
       "      <td>17</td>\n",
       "      <td>2018</td>\n",
       "      <td>Multiple Genres</td>\n",
       "      <td>0.0004</td>\n",
       "    </tr>\n",
       "    <tr>\n",
       "      <td>18</td>\n",
       "      <td>2019</td>\n",
       "      <td>Multiple Genres</td>\n",
       "      <td>0.0003</td>\n",
       "    </tr>\n",
       "    <tr>\n",
       "      <td>0</td>\n",
       "      <td>2014</td>\n",
       "      <td>Reality</td>\n",
       "      <td>0.0000</td>\n",
       "    </tr>\n",
       "    <tr>\n",
       "      <td>1</td>\n",
       "      <td>2015</td>\n",
       "      <td>Reality</td>\n",
       "      <td>0.0001</td>\n",
       "    </tr>\n",
       "  </tbody>\n",
       "</table>\n",
       "<p>322 rows × 3 columns</p>\n",
       "</div>"
      ],
      "text/plain": [
       "    Year            Genre  MarketShare\n",
       "0   1995        Adventure       0.1452\n",
       "1   1996        Adventure       0.2237\n",
       "2   1997        Adventure       0.1387\n",
       "3   1998        Adventure       0.2384\n",
       "4   1999        Adventure       0.2197\n",
       "..   ...              ...          ...\n",
       "16  2017  Multiple Genres       0.0004\n",
       "17  2018  Multiple Genres       0.0004\n",
       "18  2019  Multiple Genres       0.0003\n",
       "0   2014          Reality       0.0000\n",
       "1   2015          Reality       0.0001\n",
       "\n",
       "[322 rows x 3 columns]"
      ]
     },
     "execution_count": 36,
     "metadata": {},
     "output_type": "execute_result"
    }
   ],
   "source": [
    "df_genre_sub"
   ]
  },
  {
   "cell_type": "code",
   "execution_count": 113,
   "metadata": {},
   "outputs": [
    {
     "data": {
      "text/plain": [
       "Text(0.5, 1, 'Market Share by Year')"
      ]
     },
     "execution_count": 113,
     "metadata": {},
     "output_type": "execute_result"
    },
    {
     "data": {
      "image/png": "[encoded data removed]",
      "text/plain": [
       "<Figure size 1067.71x648 with 1 Axes>"
      ]
     },
     "metadata": {
      "needs_background": "light"
     },
     "output_type": "display_data"
    }
   ],
   "source": [
    "import seaborn as sns\n",
    " \n",
    "# Use the 'hue' argument to provide a factor variable\n",
    "sns.lmplot(x='Year',y='MarketShare',data=df_genre_sub,height=9, aspect=10/7,\n",
    "           fit_reg=True, hue='Genre', legend=True)\n",
    "plt.title(\"Market Share by Year\")"
   ]
  },
  {
   "cell_type": "code",
   "execution_count": 38,
   "metadata": {},
   "outputs": [],
   "source": [
    "# Most Profitable Movies, Based on Absolute Profit on Worldwide Gross"
   ]
  },
  {
   "cell_type": "code",
   "execution_count": 39,
   "metadata": {},
   "outputs": [],
   "source": [
    "html_page = requests.get('https://www.the-numbers.com/movie/budgets')\n",
    "soup = BeautifulSoup(html_page.content,'html.parser')"
   ]
  },
  {
   "cell_type": "code",
   "execution_count": 40,
   "metadata": {},
   "outputs": [],
   "source": [
    "tables=soup.find_all('table')"
   ]
  },
  {
   "cell_type": "code",
   "execution_count": 41,
   "metadata": {},
   "outputs": [],
   "source": [
    "profitable_movies=pd.read_html(str(tables[2]))[0]"
   ]
  },
  {
   "cell_type": "code",
   "execution_count": 42,
   "metadata": {
    "scrolled": true
   },
   "outputs": [
    {
     "data": {
      "text/html": [
       "<div>\n",
       "<style scoped>\n",
       "    .dataframe tbody tr th:only-of-type {\n",
       "        vertical-align: middle;\n",
       "    }\n",
       "\n",
       "    .dataframe tbody tr th {\n",
       "        vertical-align: top;\n",
       "    }\n",
       "\n",
       "    .dataframe thead th {\n",
       "        text-align: right;\n",
       "    }\n",
       "</style>\n",
       "<table border=\"1\" class=\"dataframe\">\n",
       "  <thead>\n",
       "    <tr style=\"text-align: right;\">\n",
       "      <th></th>\n",
       "      <th>Unnamed: 0</th>\n",
       "      <th>Release Date</th>\n",
       "      <th>Movie</th>\n",
       "      <th>Approx. Income</th>\n",
       "      <th>Approx. Expense</th>\n",
       "      <th>Profit</th>\n",
       "    </tr>\n",
       "  </thead>\n",
       "  <tbody>\n",
       "    <tr>\n",
       "      <td>0</td>\n",
       "      <td>1.0</td>\n",
       "      <td>Dec 18, 2009</td>\n",
       "      <td>Avatar</td>\n",
       "      <td>$1,796,444,222</td>\n",
       "      <td>$328,262,000</td>\n",
       "      <td>$1,468,182,222</td>\n",
       "    </tr>\n",
       "    <tr>\n",
       "      <td>2</td>\n",
       "      <td>2.0</td>\n",
       "      <td>Apr 26, 2019</td>\n",
       "      <td>Avengers: Endgame</td>\n",
       "      <td>$1,480,049,231</td>\n",
       "      <td>$475,560,000</td>\n",
       "      <td>$1,004,489,231</td>\n",
       "    </tr>\n",
       "    <tr>\n",
       "      <td>4</td>\n",
       "      <td>3.0</td>\n",
       "      <td>Dec 18, 2015</td>\n",
       "      <td>Star Wars Ep. VII: The Force Awakens</td>\n",
       "      <td>$1,224,827,707</td>\n",
       "      <td>$381,704,000</td>\n",
       "      <td>$843,123,707</td>\n",
       "    </tr>\n",
       "    <tr>\n",
       "      <td>6</td>\n",
       "      <td>4.0</td>\n",
       "      <td>Nov 22, 2013</td>\n",
       "      <td>Frozen</td>\n",
       "      <td>$1,042,582,430</td>\n",
       "      <td>$245,904,000</td>\n",
       "      <td>$796,678,430</td>\n",
       "    </tr>\n",
       "    <tr>\n",
       "      <td>8</td>\n",
       "      <td>5.0</td>\n",
       "      <td>Nov 18, 2005</td>\n",
       "      <td>Harry Potter and the Goblet of Fire</td>\n",
       "      <td>$997,569,652</td>\n",
       "      <td>$208,064,000</td>\n",
       "      <td>$789,505,652</td>\n",
       "    </tr>\n",
       "    <tr>\n",
       "      <td>10</td>\n",
       "      <td>6.0</td>\n",
       "      <td>Apr 27, 2018</td>\n",
       "      <td>Avengers: Infinity War</td>\n",
       "      <td>$1,125,651,663</td>\n",
       "      <td>$368,812,000</td>\n",
       "      <td>$756,839,663</td>\n",
       "    </tr>\n",
       "    <tr>\n",
       "      <td>12</td>\n",
       "      <td>7.0</td>\n",
       "      <td>May 4, 2012</td>\n",
       "      <td>The Avengers</td>\n",
       "      <td>$998,585,807</td>\n",
       "      <td>$300,290,000</td>\n",
       "      <td>$698,295,807</td>\n",
       "    </tr>\n",
       "    <tr>\n",
       "      <td>14</td>\n",
       "      <td>8.0</td>\n",
       "      <td>Jun 12, 2015</td>\n",
       "      <td>Jurassic World</td>\n",
       "      <td>$962,588,221</td>\n",
       "      <td>$287,756,000</td>\n",
       "      <td>$674,832,221</td>\n",
       "    </tr>\n",
       "    <tr>\n",
       "      <td>16</td>\n",
       "      <td>9.0</td>\n",
       "      <td>Jul 15, 2011</td>\n",
       "      <td>Harry Potter and the Deathly Hallows: Part II</td>\n",
       "      <td>$833,252,878</td>\n",
       "      <td>$177,306,000</td>\n",
       "      <td>$655,946,878</td>\n",
       "    </tr>\n",
       "    <tr>\n",
       "      <td>18</td>\n",
       "      <td>10.0</td>\n",
       "      <td>Jul 3, 2013</td>\n",
       "      <td>Despicable Me 2</td>\n",
       "      <td>$735,831,589</td>\n",
       "      <td>$143,056,000</td>\n",
       "      <td>$592,775,589</td>\n",
       "    </tr>\n",
       "    <tr>\n",
       "      <td>20</td>\n",
       "      <td>11.0</td>\n",
       "      <td>Apr 3, 2015</td>\n",
       "      <td>Furious 7</td>\n",
       "      <td>$831,596,827</td>\n",
       "      <td>$245,576,000</td>\n",
       "      <td>$586,020,827</td>\n",
       "    </tr>\n",
       "    <tr>\n",
       "      <td>22</td>\n",
       "      <td>12.0</td>\n",
       "      <td>Jul 7, 2006</td>\n",
       "      <td>Pirates of the Caribbean: Dead Manâs Chest</td>\n",
       "      <td>$859,109,301</td>\n",
       "      <td>$293,790,000</td>\n",
       "      <td>$565,319,301</td>\n",
       "    </tr>\n",
       "    <tr>\n",
       "      <td>24</td>\n",
       "      <td>13.0</td>\n",
       "      <td>Dec 9, 2005</td>\n",
       "      <td>The Chronicles of Narnia: The Lion, the Witch ...</td>\n",
       "      <td>$808,363,868</td>\n",
       "      <td>$247,308,000</td>\n",
       "      <td>$561,055,868</td>\n",
       "    </tr>\n",
       "    <tr>\n",
       "      <td>26</td>\n",
       "      <td>14.0</td>\n",
       "      <td>Jul 10, 2015</td>\n",
       "      <td>Minions</td>\n",
       "      <td>$699,159,915</td>\n",
       "      <td>$141,424,000</td>\n",
       "      <td>$557,735,915</td>\n",
       "    </tr>\n",
       "    <tr>\n",
       "      <td>28</td>\n",
       "      <td>15.0</td>\n",
       "      <td>Jul 18, 2008</td>\n",
       "      <td>The Dark Knight</td>\n",
       "      <td>$818,004,127</td>\n",
       "      <td>$263,340,000</td>\n",
       "      <td>$554,664,127</td>\n",
       "    </tr>\n",
       "    <tr>\n",
       "      <td>30</td>\n",
       "      <td>16.0</td>\n",
       "      <td>Jul 11, 2007</td>\n",
       "      <td>Harry Potter and the Order of the Phoenix</td>\n",
       "      <td>$730,155,480</td>\n",
       "      <td>$202,594,000</td>\n",
       "      <td>$527,561,480</td>\n",
       "    </tr>\n",
       "    <tr>\n",
       "      <td>32</td>\n",
       "      <td>17.0</td>\n",
       "      <td>Jul 19, 2019</td>\n",
       "      <td>The Lion King</td>\n",
       "      <td>$864,729,891</td>\n",
       "      <td>$341,924,000</td>\n",
       "      <td>$522,805,891</td>\n",
       "    </tr>\n",
       "    <tr>\n",
       "      <td>34</td>\n",
       "      <td>18.0</td>\n",
       "      <td>Jun 18, 2010</td>\n",
       "      <td>Toy Story 3</td>\n",
       "      <td>$786,529,917</td>\n",
       "      <td>$267,398,000</td>\n",
       "      <td>$519,131,917</td>\n",
       "    </tr>\n",
       "    <tr>\n",
       "      <td>36</td>\n",
       "      <td>19.0</td>\n",
       "      <td>Dec 15, 2017</td>\n",
       "      <td>Star Wars Ep. VIII: The Last Jedi</td>\n",
       "      <td>$756,951,233</td>\n",
       "      <td>$256,370,000</td>\n",
       "      <td>$500,581,233</td>\n",
       "    </tr>\n",
       "    <tr>\n",
       "      <td>38</td>\n",
       "      <td>20.0</td>\n",
       "      <td>Feb 16, 2018</td>\n",
       "      <td>Black Panther</td>\n",
       "      <td>$769,560,667</td>\n",
       "      <td>$280,472,000</td>\n",
       "      <td>$489,088,667</td>\n",
       "    </tr>\n",
       "  </tbody>\n",
       "</table>\n",
       "</div>"
      ],
      "text/plain": [
       "    Unnamed: 0  Release Date  \\\n",
       "0          1.0  Dec 18, 2009   \n",
       "2          2.0  Apr 26, 2019   \n",
       "4          3.0  Dec 18, 2015   \n",
       "6          4.0  Nov 22, 2013   \n",
       "8          5.0  Nov 18, 2005   \n",
       "10         6.0  Apr 27, 2018   \n",
       "12         7.0   May 4, 2012   \n",
       "14         8.0  Jun 12, 2015   \n",
       "16         9.0  Jul 15, 2011   \n",
       "18        10.0   Jul 3, 2013   \n",
       "20        11.0   Apr 3, 2015   \n",
       "22        12.0   Jul 7, 2006   \n",
       "24        13.0   Dec 9, 2005   \n",
       "26        14.0  Jul 10, 2015   \n",
       "28        15.0  Jul 18, 2008   \n",
       "30        16.0  Jul 11, 2007   \n",
       "32        17.0  Jul 19, 2019   \n",
       "34        18.0  Jun 18, 2010   \n",
       "36        19.0  Dec 15, 2017   \n",
       "38        20.0  Feb 16, 2018   \n",
       "\n",
       "                                                Movie  Approx. Income  \\\n",
       "0                                              Avatar  $1,796,444,222   \n",
       "2                                   Avengers: Endgame  $1,480,049,231   \n",
       "4                Star Wars Ep. VII: The Force Awakens  $1,224,827,707   \n",
       "6                                              Frozen  $1,042,582,430   \n",
       "8                 Harry Potter and the Goblet of Fire    $997,569,652   \n",
       "10                             Avengers: Infinity War  $1,125,651,663   \n",
       "12                                       The Avengers    $998,585,807   \n",
       "14                                     Jurassic World    $962,588,221   \n",
       "16      Harry Potter and the Deathly Hallows: Part II    $833,252,878   \n",
       "18                                    Despicable Me 2    $735,831,589   \n",
       "20                                          Furious 7    $831,596,827   \n",
       "22       Pirates of the Caribbean: Dead Manâs Chest    $859,109,301   \n",
       "24  The Chronicles of Narnia: The Lion, the Witch ...    $808,363,868   \n",
       "26                                            Minions    $699,159,915   \n",
       "28                                    The Dark Knight    $818,004,127   \n",
       "30          Harry Potter and the Order of the Phoenix    $730,155,480   \n",
       "32                                      The Lion King    $864,729,891   \n",
       "34                                        Toy Story 3    $786,529,917   \n",
       "36                  Star Wars Ep. VIII: The Last Jedi    $756,951,233   \n",
       "38                                      Black Panther    $769,560,667   \n",
       "\n",
       "   Approx. Expense          Profit  \n",
       "0     $328,262,000  $1,468,182,222  \n",
       "2     $475,560,000  $1,004,489,231  \n",
       "4     $381,704,000    $843,123,707  \n",
       "6     $245,904,000    $796,678,430  \n",
       "8     $208,064,000    $789,505,652  \n",
       "10    $368,812,000    $756,839,663  \n",
       "12    $300,290,000    $698,295,807  \n",
       "14    $287,756,000    $674,832,221  \n",
       "16    $177,306,000    $655,946,878  \n",
       "18    $143,056,000    $592,775,589  \n",
       "20    $245,576,000    $586,020,827  \n",
       "22    $293,790,000    $565,319,301  \n",
       "24    $247,308,000    $561,055,868  \n",
       "26    $141,424,000    $557,735,915  \n",
       "28    $263,340,000    $554,664,127  \n",
       "30    $202,594,000    $527,561,480  \n",
       "32    $341,924,000    $522,805,891  \n",
       "34    $267,398,000    $519,131,917  \n",
       "36    $256,370,000    $500,581,233  \n",
       "38    $280,472,000    $489,088,667  "
      ]
     },
     "execution_count": 42,
     "metadata": {},
     "output_type": "execute_result"
    }
   ],
   "source": [
    "profitable_movies.dropna(inplace=True)\n",
    "profitable_movies"
   ]
  },
  {
   "cell_type": "code",
   "execution_count": 43,
   "metadata": {},
   "outputs": [],
   "source": [
    "# convert dframe to tuple\n",
    "tuple_profitable=list(profitable_movies.itertuples(index=False,name=None))"
   ]
  },
  {
   "cell_type": "code",
   "execution_count": 44,
   "metadata": {},
   "outputs": [
    {
     "data": {
      "text/plain": [
       "(1.0,\n",
       " 'Dec 18, 2009',\n",
       " 'Avatar',\n",
       " '$1,796,444,222',\n",
       " '$328,262,000',\n",
       " '$1,468,182,222')"
      ]
     },
     "execution_count": 44,
     "metadata": {},
     "output_type": "execute_result"
    }
   ],
   "source": [
    "tuple_profitable[0]"
   ]
  },
  {
   "cell_type": "code",
   "execution_count": 45,
   "metadata": {},
   "outputs": [
    {
     "name": "stdout",
     "output_type": "stream",
     "text": [
      "<mysql.connector.connection_cext.CMySQLConnection object at 0x118a7e290>\n"
     ]
    }
   ],
   "source": [
    "import mysql.connector\n",
    "from mysql.connector import errorcode\n",
    "import config\n",
    "cnx = mysql.connector.connect(\n",
    "    host = config.my_cred['host'],\n",
    "    user = config.my_cred['user'],\n",
    "    passwd = config.my_cred['passwd']\n",
    ")\n",
    "\n",
    "print(cnx)"
   ]
  },
  {
   "cell_type": "code",
   "execution_count": 46,
   "metadata": {},
   "outputs": [],
   "source": [
    "cursor = cnx.cursor()"
   ]
  },
  {
   "cell_type": "code",
   "execution_count": 47,
   "metadata": {},
   "outputs": [],
   "source": [
    "DB_NAME = 'movies'\n",
    "\n",
    "TABLES = {}\n",
    "TABLES['profitable'] = (\n",
    "    \"CREATE TABLE profitable (\"\n",
    "    \"  Release_Date varchar(30) NOT NULL,\"\n",
    "    \"  Movie varchar(190) NOT NULL,\"\n",
    "    \"  Approx_Income varchar(12) NOT NULL,\"\n",
    "    \"  Approx_Expense varchar(12) NOT NULL,\"\n",
    "    \"  Profit  varchar(12) NOT NULL\"\n",
    "    \") ENGINE=InnoDB\")"
   ]
  },
  {
   "cell_type": "code",
   "execution_count": 48,
   "metadata": {},
   "outputs": [
    {
     "name": "stdout",
     "output_type": "stream",
     "text": [
      "Creating table profitable: already exists.\n"
     ]
    }
   ],
   "source": [
    "try:\n",
    "    cursor.execute(\"USE {}\".format(DB_NAME))\n",
    "\n",
    "#if the previous line fails because there isn't a db by that name run this line\n",
    "\n",
    "except mysql.connector.Error as err:\n",
    "    print(\"Database {} does not exists.\".format(DB_NAME))\n",
    "    if err.errno == errorcode.ER_BAD_DB_ERROR:\n",
    "        create_database(cursor, DB_NAME)\n",
    "        print(\"Database {} created successfully.\".format(DB_NAME))\n",
    "        cnx.database = DB_NAME\n",
    "    else:\n",
    "        print(err)\n",
    "        exit(1)\n",
    "        \n",
    "for table_name in TABLES:\n",
    "    table_description = TABLES[table_name]\n",
    "    try:\n",
    "        print(\"Creating table {}: \".format(table_name), end='')\n",
    "        cursor.execute(table_description)\n",
    "    except mysql.connector.Error as err:\n",
    "        if err.errno == errorcode.ER_TABLE_EXISTS_ERROR:\n",
    "            print(\"already exists.\")\n",
    "        else:\n",
    "            print(err.msg)\n",
    "    else:\n",
    "        print(\"OK\")\n",
    "\n",
    "# cursor.close()\n",
    "# cnx.close()"
   ]
  },
  {
   "cell_type": "code",
   "execution_count": 49,
   "metadata": {},
   "outputs": [
    {
     "ename": "InterfaceError",
     "evalue": "Failed executing the operation; Not all parameters were used in the SQL statement",
     "output_type": "error",
     "traceback": [
      "\u001b[0;31m---------------------------------------------------------------------------\u001b[0m",
      "\u001b[0;31mProgrammingError\u001b[0m                          Traceback (most recent call last)",
      "\u001b[0;32m/opt/anaconda3/lib/python3.7/site-packages/mysql/connector/cursor_cext.py\u001b[0m in \u001b[0;36m_batch_insert\u001b[0;34m(self, operation, seq_params)\u001b[0m\n\u001b[1;32m    316\u001b[0m                         raise errors.ProgrammingError(\n\u001b[0;32m--> 317\u001b[0;31m                             \"Not all parameters were used in the SQL statement\")\n\u001b[0m\u001b[1;32m    318\u001b[0m                 \u001b[0mvalues\u001b[0m\u001b[0;34m.\u001b[0m\u001b[0mappend\u001b[0m\u001b[0;34m(\u001b[0m\u001b[0mtmp\u001b[0m\u001b[0;34m)\u001b[0m\u001b[0;34m\u001b[0m\u001b[0;34m\u001b[0m\u001b[0m\n",
      "\u001b[0;31mProgrammingError\u001b[0m: Not all parameters were used in the SQL statement",
      "\nDuring handling of the above exception, another exception occurred:\n",
      "\u001b[0;31mInterfaceError\u001b[0m                            Traceback (most recent call last)",
      "\u001b[0;32m<ipython-input-49-62ea24a58287>\u001b[0m in \u001b[0;36m<module>\u001b[0;34m\u001b[0m\n\u001b[1;32m      3\u001b[0m       \u001b[0;34m(\u001b[0m\u001b[0mRelease_Date\u001b[0m\u001b[0;34m,\u001b[0m \u001b[0mMovie\u001b[0m \u001b[0;34m,\u001b[0m \u001b[0mApprox_Income\u001b[0m\u001b[0;34m,\u001b[0m \u001b[0mApprox_Expense\u001b[0m\u001b[0;34m,\u001b[0m \u001b[0mProfit\u001b[0m\u001b[0;34m)\u001b[0m\u001b[0;34m\u001b[0m\u001b[0;34m\u001b[0m\u001b[0m\n\u001b[1;32m      4\u001b[0m       VALUES (%s,%s,%s,%s,%s)\"\"\",\n\u001b[0;32m----> 5\u001b[0;31m       tuple_profitable)\n\u001b[0m\u001b[1;32m      6\u001b[0m \u001b[0mcnx\u001b[0m\u001b[0;34m.\u001b[0m\u001b[0mcommit\u001b[0m\u001b[0;34m(\u001b[0m\u001b[0;34m)\u001b[0m\u001b[0;34m\u001b[0m\u001b[0;34m\u001b[0m\u001b[0m\n",
      "\u001b[0;32m/opt/anaconda3/lib/python3.7/site-packages/mysql/connector/cursor_cext.py\u001b[0m in \u001b[0;36mexecutemany\u001b[0;34m(self, operation, seq_params)\u001b[0m\n\u001b[1;32m    348\u001b[0m                 \u001b[0mself\u001b[0m\u001b[0;34m.\u001b[0m\u001b[0m_rowcount\u001b[0m \u001b[0;34m=\u001b[0m \u001b[0;36m0\u001b[0m\u001b[0;34m\u001b[0m\u001b[0;34m\u001b[0m\u001b[0m\n\u001b[1;32m    349\u001b[0m                 \u001b[0;32mreturn\u001b[0m \u001b[0;32mNone\u001b[0m\u001b[0;34m\u001b[0m\u001b[0;34m\u001b[0m\u001b[0m\n\u001b[0;32m--> 350\u001b[0;31m             \u001b[0mstmt\u001b[0m \u001b[0;34m=\u001b[0m \u001b[0mself\u001b[0m\u001b[0;34m.\u001b[0m\u001b[0m_batch_insert\u001b[0m\u001b[0;34m(\u001b[0m\u001b[0moperation\u001b[0m\u001b[0;34m,\u001b[0m \u001b[0mseq_params\u001b[0m\u001b[0;34m)\u001b[0m\u001b[0;34m\u001b[0m\u001b[0;34m\u001b[0m\u001b[0m\n\u001b[0m\u001b[1;32m    351\u001b[0m             \u001b[0;32mif\u001b[0m \u001b[0mstmt\u001b[0m \u001b[0;32mis\u001b[0m \u001b[0;32mnot\u001b[0m \u001b[0;32mNone\u001b[0m\u001b[0;34m:\u001b[0m\u001b[0;34m\u001b[0m\u001b[0;34m\u001b[0m\u001b[0m\n\u001b[1;32m    352\u001b[0m                 \u001b[0;32mreturn\u001b[0m \u001b[0mself\u001b[0m\u001b[0;34m.\u001b[0m\u001b[0mexecute\u001b[0m\u001b[0;34m(\u001b[0m\u001b[0mstmt\u001b[0m\u001b[0;34m)\u001b[0m\u001b[0;34m\u001b[0m\u001b[0;34m\u001b[0m\u001b[0m\n",
      "\u001b[0;32m/opt/anaconda3/lib/python3.7/site-packages/mysql/connector/cursor_cext.py\u001b[0m in \u001b[0;36m_batch_insert\u001b[0;34m(self, operation, seq_params)\u001b[0m\n\u001b[1;32m    327\u001b[0m         \u001b[0;32mexcept\u001b[0m \u001b[0mException\u001b[0m \u001b[0;32mas\u001b[0m \u001b[0merr\u001b[0m\u001b[0;34m:\u001b[0m\u001b[0;34m\u001b[0m\u001b[0;34m\u001b[0m\u001b[0m\n\u001b[1;32m    328\u001b[0m             raise errors.InterfaceError(\n\u001b[0;32m--> 329\u001b[0;31m                 \"Failed executing the operation; %s\" % err)\n\u001b[0m\u001b[1;32m    330\u001b[0m \u001b[0;34m\u001b[0m\u001b[0m\n\u001b[1;32m    331\u001b[0m \u001b[0;34m\u001b[0m\u001b[0m\n",
      "\u001b[0;31mInterfaceError\u001b[0m: Failed executing the operation; Not all parameters were used in the SQL statement"
     ]
    }
   ],
   "source": [
    "cursor.executemany(\n",
    "      \"\"\"INSERT INTO profitable\n",
    "      (Release_Date, Movie , Approx_Income, Approx_Expense, Profit)\n",
    "      VALUES (%s,%s,%s,%s,%s)\"\"\",\n",
    "      tuple_profitable)\n",
    "cnx.commit()\n"
   ]
  },
  {
   "cell_type": "code",
   "execution_count": null,
   "metadata": {},
   "outputs": [],
   "source": [
    "# Biggest Money Losers, Based on Absolute Loss on Worldwide Earnings"
   ]
  },
  {
   "cell_type": "code",
   "execution_count": null,
   "metadata": {},
   "outputs": [],
   "source": [
    "html_page = requests.get('https://www.the-numbers.com/movie/budgets')\n",
    "soup = BeautifulSoup(html_page.content,'html.parser')"
   ]
  },
  {
   "cell_type": "code",
   "execution_count": null,
   "metadata": {},
   "outputs": [],
   "source": [
    "tables=soup.find_all('table')"
   ]
  },
  {
   "cell_type": "code",
   "execution_count": null,
   "metadata": {},
   "outputs": [],
   "source": [
    "money_losers=pd.read_html(str(tables[4]))[0]"
   ]
  },
  {
   "cell_type": "code",
   "execution_count": null,
   "metadata": {},
   "outputs": [],
   "source": [
    "money_losers.dropna(inplace=True)\n",
    "money_losers.drop(columns='Unnamed: 0',inplace=True)"
   ]
  },
  {
   "cell_type": "code",
   "execution_count": null,
   "metadata": {},
   "outputs": [],
   "source": [
    "# convert dframe to tuple\n",
    "tuple_loss=list(money_losers.itertuples(index=False,name=None))\n",
    "tuple_loss"
   ]
  },
  {
   "cell_type": "code",
   "execution_count": null,
   "metadata": {},
   "outputs": [],
   "source": [
    "import mysql.connector\n",
    "from mysql.connector import errorcode\n",
    "import config\n",
    "cnx = mysql.connector.connect(\n",
    "    host = config.my_cred['host'],\n",
    "    user = config.my_cred['user'],\n",
    "    passwd = config.my_cred['passwd']\n",
    ")\n",
    "cnx.database = 'movies'\n",
    "print(cnx)"
   ]
  },
  {
   "cell_type": "code",
   "execution_count": null,
   "metadata": {},
   "outputs": [],
   "source": [
    "cursor = cnx.cursor()"
   ]
  },
  {
   "cell_type": "code",
   "execution_count": null,
   "metadata": {},
   "outputs": [],
   "source": [
    "DB_NAME = 'movies'\n",
    "\n",
    "TABLES = {}\n",
    "TABLES['loss'] = (\n",
    "    \"CREATE TABLE loss (\"\n",
    "    \"  Release_Date varchar(30) NOT NULL,\"\n",
    "    \"  Movie varchar(190) NOT NULL,\"\n",
    "    \"  Approx_Income varchar(12) NOT NULL,\"\n",
    "    \"  Approx_Expense varchar(12) NOT NULL,\"\n",
    "    \"  loss varchar(12) NOT NULL\"\n",
    "    \") ENGINE=InnoDB\")"
   ]
  },
  {
   "cell_type": "code",
   "execution_count": null,
   "metadata": {},
   "outputs": [],
   "source": [
    "try:\n",
    "    cursor.execute(\"USE {}\".format(DB_NAME))\n",
    "\n",
    "#if the previous line fails because there isn't a db by that name run this line\n",
    "\n",
    "except mysql.connector.Error as err:\n",
    "    print(\"Database {} does not exists.\".format(DB_NAME))\n",
    "    if err.errno == errorcode.ER_BAD_DB_ERROR:\n",
    "        create_database(cursor, DB_NAME)\n",
    "        print(\"Database {} created successfully.\".format(DB_NAME))\n",
    "        cnx.database = DB_NAME\n",
    "    else:\n",
    "        print(err)\n",
    "        exit(1)\n",
    "        \n",
    "for table_name in TABLES:\n",
    "    table_description = TABLES[table_name]\n",
    "    try:\n",
    "        print(\"Creating table {}: \".format(table_name), end='')\n",
    "        cursor.execute(table_description)\n",
    "    except mysql.connector.Error as err:\n",
    "        if err.errno == errorcode.ER_TABLE_EXISTS_ERROR:\n",
    "            print(\"already exists.\")\n",
    "        else:\n",
    "            print(err.msg)\n",
    "    else:\n",
    "        print(\"OK\")\n",
    "\n",
    "# cursor.close()\n",
    "# cnx.close()"
   ]
  },
  {
   "cell_type": "code",
   "execution_count": null,
   "metadata": {},
   "outputs": [],
   "source": [
    "cursor.executemany(\n",
    "      \"\"\"INSERT INTO loss (Release_Date, Movie , Approx_Income, Approx_Expense, loss)\n",
    "      VALUES (%s,%s,%s,%s,%s)\"\"\",\n",
    "      tuple_loss)\n",
    "cnx.commit()"
   ]
  },
  {
   "cell_type": "code",
   "execution_count": null,
   "metadata": {},
   "outputs": [],
   "source": []
  },
  {
   "cell_type": "code",
   "execution_count": null,
   "metadata": {},
   "outputs": [],
   "source": []
  },
  {
   "cell_type": "code",
   "execution_count": null,
   "metadata": {},
   "outputs": [],
   "source": []
  },
  {
   "cell_type": "code",
   "execution_count": null,
   "metadata": {},
   "outputs": [],
   "source": []
  },
  {
   "cell_type": "code",
   "execution_count": null,
   "metadata": {},
   "outputs": [],
   "source": []
  },
  {
   "cell_type": "code",
   "execution_count": null,
   "metadata": {},
   "outputs": [],
   "source": []
  },
  {
   "cell_type": "code",
   "execution_count": null,
   "metadata": {},
   "outputs": [],
   "source": []
  },
  {
   "cell_type": "code",
   "execution_count": null,
   "metadata": {},
   "outputs": [],
   "source": []
  },
  {
   "cell_type": "code",
   "execution_count": null,
   "metadata": {},
   "outputs": [],
   "source": []
  },
  {
   "cell_type": "code",
   "execution_count": null,
   "metadata": {},
   "outputs": [],
   "source": []
  },
  {
   "cell_type": "code",
   "execution_count": null,
   "metadata": {},
   "outputs": [],
   "source": []
  },
  {
   "cell_type": "code",
   "execution_count": null,
   "metadata": {},
   "outputs": [],
   "source": []
  },
  {
   "cell_type": "code",
   "execution_count": null,
   "metadata": {},
   "outputs": [],
   "source": []
  },
  {
   "cell_type": "code",
   "execution_count": null,
   "metadata": {},
   "outputs": [],
   "source": []
  },
  {
   "cell_type": "code",
   "execution_count": null,
   "metadata": {},
   "outputs": [],
   "source": []
  },
  {
   "cell_type": "code",
   "execution_count": null,
   "metadata": {},
   "outputs": [],
   "source": []
  }
 ],
 "metadata": {
  "kernelspec": {
   "display_name": "Python 3",
   "language": "python",
   "name": "python3"
  },
  "language_info": {
   "codemirror_mode": {
    "name": "ipython",
    "version": 3
   },
   "file_extension": ".py",
   "mimetype": "text/x-python",
   "name": "python",
   "nbconvert_exporter": "python",
   "pygments_lexer": "ipython3",
   "version": "3.7.4"
  }
 },
 "nbformat": 4,
 "nbformat_minor": 2
}
